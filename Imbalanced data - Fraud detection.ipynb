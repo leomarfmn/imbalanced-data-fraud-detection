{
 "cells": [
  {
   "cell_type": "markdown",
   "id": "b7521ca0",
   "metadata": {
    "heading_collapsed": true
   },
   "source": [
    "## 0. PROJECT SETUP"
   ]
  },
  {
   "cell_type": "markdown",
   "id": "cdc69730",
   "metadata": {
    "heading_collapsed": true,
    "hidden": true
   },
   "source": [
    "### 0.1. IMPORTS"
   ]
  },
  {
   "cell_type": "code",
   "execution_count": 2,
   "id": "12cbed26",
   "metadata": {
    "hidden": true
   },
   "outputs": [],
   "source": [
    "import pandas as pd\n",
    "import numpy as np\n",
    "import matplotlib.pyplot as plt\n",
    "import seaborn as sns"
   ]
  },
  {
   "cell_type": "markdown",
   "id": "33190746",
   "metadata": {
    "heading_collapsed": true,
    "hidden": true
   },
   "source": [
    "### 0.2. SOURCES"
   ]
  },
  {
   "cell_type": "markdown",
   "id": "3616b6c6",
   "metadata": {
    "hidden": true
   },
   "source": [
    "The data set used on this project can be found at: https://data.world/raghu543/credit-card-fraud-data"
   ]
  },
  {
   "cell_type": "markdown",
   "id": "afbbc192",
   "metadata": {
    "heading_collapsed": true,
    "hidden": true
   },
   "source": [
    "### 0.3. FUNCTIONS"
   ]
  },
  {
   "cell_type": "markdown",
   "id": "ebba0197",
   "metadata": {
    "heading_collapsed": true
   },
   "source": [
    "## 1. CREATING DATAFRAME"
   ]
  },
  {
   "cell_type": "markdown",
   "id": "96cb0195",
   "metadata": {
    "heading_collapsed": true,
    "hidden": true
   },
   "source": [
    "### 1.1. INSERTING DATA"
   ]
  },
  {
   "cell_type": "code",
   "execution_count": 6,
   "id": "4914695b",
   "metadata": {
    "hidden": true
   },
   "outputs": [
    {
     "data": {
      "text/html": [
       "<div>\n",
       "<style scoped>\n",
       "    .dataframe tbody tr th:only-of-type {\n",
       "        vertical-align: middle;\n",
       "    }\n",
       "\n",
       "    .dataframe tbody tr th {\n",
       "        vertical-align: top;\n",
       "    }\n",
       "\n",
       "    .dataframe thead th {\n",
       "        text-align: right;\n",
       "    }\n",
       "</style>\n",
       "<table border=\"1\" class=\"dataframe\">\n",
       "  <thead>\n",
       "    <tr style=\"text-align: right;\">\n",
       "      <th></th>\n",
       "      <th>Time</th>\n",
       "      <th>V1</th>\n",
       "      <th>V2</th>\n",
       "      <th>V3</th>\n",
       "      <th>V4</th>\n",
       "      <th>V5</th>\n",
       "      <th>V6</th>\n",
       "      <th>V7</th>\n",
       "      <th>V8</th>\n",
       "      <th>V9</th>\n",
       "      <th>...</th>\n",
       "      <th>V21</th>\n",
       "      <th>V22</th>\n",
       "      <th>V23</th>\n",
       "      <th>V24</th>\n",
       "      <th>V25</th>\n",
       "      <th>V26</th>\n",
       "      <th>V27</th>\n",
       "      <th>V28</th>\n",
       "      <th>Amount</th>\n",
       "      <th>Class</th>\n",
       "    </tr>\n",
       "  </thead>\n",
       "  <tbody>\n",
       "    <tr>\n",
       "      <th>0</th>\n",
       "      <td>0.0</td>\n",
       "      <td>-1.359807</td>\n",
       "      <td>-0.072781</td>\n",
       "      <td>2.536347</td>\n",
       "      <td>1.378155</td>\n",
       "      <td>-0.338321</td>\n",
       "      <td>0.462388</td>\n",
       "      <td>0.239599</td>\n",
       "      <td>0.098698</td>\n",
       "      <td>0.363787</td>\n",
       "      <td>...</td>\n",
       "      <td>-0.018307</td>\n",
       "      <td>0.277838</td>\n",
       "      <td>-0.110474</td>\n",
       "      <td>0.066928</td>\n",
       "      <td>0.128539</td>\n",
       "      <td>-0.189115</td>\n",
       "      <td>0.133558</td>\n",
       "      <td>-0.021053</td>\n",
       "      <td>149.62</td>\n",
       "      <td>0</td>\n",
       "    </tr>\n",
       "    <tr>\n",
       "      <th>1</th>\n",
       "      <td>0.0</td>\n",
       "      <td>1.191857</td>\n",
       "      <td>0.266151</td>\n",
       "      <td>0.166480</td>\n",
       "      <td>0.448154</td>\n",
       "      <td>0.060018</td>\n",
       "      <td>-0.082361</td>\n",
       "      <td>-0.078803</td>\n",
       "      <td>0.085102</td>\n",
       "      <td>-0.255425</td>\n",
       "      <td>...</td>\n",
       "      <td>-0.225775</td>\n",
       "      <td>-0.638672</td>\n",
       "      <td>0.101288</td>\n",
       "      <td>-0.339846</td>\n",
       "      <td>0.167170</td>\n",
       "      <td>0.125895</td>\n",
       "      <td>-0.008983</td>\n",
       "      <td>0.014724</td>\n",
       "      <td>2.69</td>\n",
       "      <td>0</td>\n",
       "    </tr>\n",
       "    <tr>\n",
       "      <th>2</th>\n",
       "      <td>1.0</td>\n",
       "      <td>-1.358354</td>\n",
       "      <td>-1.340163</td>\n",
       "      <td>1.773209</td>\n",
       "      <td>0.379780</td>\n",
       "      <td>-0.503198</td>\n",
       "      <td>1.800499</td>\n",
       "      <td>0.791461</td>\n",
       "      <td>0.247676</td>\n",
       "      <td>-1.514654</td>\n",
       "      <td>...</td>\n",
       "      <td>0.247998</td>\n",
       "      <td>0.771679</td>\n",
       "      <td>0.909412</td>\n",
       "      <td>-0.689281</td>\n",
       "      <td>-0.327642</td>\n",
       "      <td>-0.139097</td>\n",
       "      <td>-0.055353</td>\n",
       "      <td>-0.059752</td>\n",
       "      <td>378.66</td>\n",
       "      <td>0</td>\n",
       "    </tr>\n",
       "    <tr>\n",
       "      <th>3</th>\n",
       "      <td>1.0</td>\n",
       "      <td>-0.966272</td>\n",
       "      <td>-0.185226</td>\n",
       "      <td>1.792993</td>\n",
       "      <td>-0.863291</td>\n",
       "      <td>-0.010309</td>\n",
       "      <td>1.247203</td>\n",
       "      <td>0.237609</td>\n",
       "      <td>0.377436</td>\n",
       "      <td>-1.387024</td>\n",
       "      <td>...</td>\n",
       "      <td>-0.108300</td>\n",
       "      <td>0.005274</td>\n",
       "      <td>-0.190321</td>\n",
       "      <td>-1.175575</td>\n",
       "      <td>0.647376</td>\n",
       "      <td>-0.221929</td>\n",
       "      <td>0.062723</td>\n",
       "      <td>0.061458</td>\n",
       "      <td>123.50</td>\n",
       "      <td>0</td>\n",
       "    </tr>\n",
       "    <tr>\n",
       "      <th>4</th>\n",
       "      <td>2.0</td>\n",
       "      <td>-1.158233</td>\n",
       "      <td>0.877737</td>\n",
       "      <td>1.548718</td>\n",
       "      <td>0.403034</td>\n",
       "      <td>-0.407193</td>\n",
       "      <td>0.095921</td>\n",
       "      <td>0.592941</td>\n",
       "      <td>-0.270533</td>\n",
       "      <td>0.817739</td>\n",
       "      <td>...</td>\n",
       "      <td>-0.009431</td>\n",
       "      <td>0.798278</td>\n",
       "      <td>-0.137458</td>\n",
       "      <td>0.141267</td>\n",
       "      <td>-0.206010</td>\n",
       "      <td>0.502292</td>\n",
       "      <td>0.219422</td>\n",
       "      <td>0.215153</td>\n",
       "      <td>69.99</td>\n",
       "      <td>0</td>\n",
       "    </tr>\n",
       "  </tbody>\n",
       "</table>\n",
       "<p>5 rows × 31 columns</p>\n",
       "</div>"
      ],
      "text/plain": [
       "   Time        V1        V2        V3        V4        V5        V6        V7  \\\n",
       "0   0.0 -1.359807 -0.072781  2.536347  1.378155 -0.338321  0.462388  0.239599   \n",
       "1   0.0  1.191857  0.266151  0.166480  0.448154  0.060018 -0.082361 -0.078803   \n",
       "2   1.0 -1.358354 -1.340163  1.773209  0.379780 -0.503198  1.800499  0.791461   \n",
       "3   1.0 -0.966272 -0.185226  1.792993 -0.863291 -0.010309  1.247203  0.237609   \n",
       "4   2.0 -1.158233  0.877737  1.548718  0.403034 -0.407193  0.095921  0.592941   \n",
       "\n",
       "         V8        V9  ...       V21       V22       V23       V24       V25  \\\n",
       "0  0.098698  0.363787  ... -0.018307  0.277838 -0.110474  0.066928  0.128539   \n",
       "1  0.085102 -0.255425  ... -0.225775 -0.638672  0.101288 -0.339846  0.167170   \n",
       "2  0.247676 -1.514654  ...  0.247998  0.771679  0.909412 -0.689281 -0.327642   \n",
       "3  0.377436 -1.387024  ... -0.108300  0.005274 -0.190321 -1.175575  0.647376   \n",
       "4 -0.270533  0.817739  ... -0.009431  0.798278 -0.137458  0.141267 -0.206010   \n",
       "\n",
       "        V26       V27       V28  Amount  Class  \n",
       "0 -0.189115  0.133558 -0.021053  149.62      0  \n",
       "1  0.125895 -0.008983  0.014724    2.69      0  \n",
       "2 -0.139097 -0.055353 -0.059752  378.66      0  \n",
       "3 -0.221929  0.062723  0.061458  123.50      0  \n",
       "4  0.502292  0.219422  0.215153   69.99      0  \n",
       "\n",
       "[5 rows x 31 columns]"
      ]
     },
     "execution_count": 6,
     "metadata": {},
     "output_type": "execute_result"
    }
   ],
   "source": [
    "df1 = pd.read_csv(\"creditcard.csv\")\n",
    "df1.head()"
   ]
  },
  {
   "cell_type": "markdown",
   "id": "5e9b27fe",
   "metadata": {
    "heading_collapsed": true,
    "hidden": true
   },
   "source": [
    "### 1.2. ANALYZING THE DATA"
   ]
  },
  {
   "cell_type": "code",
   "execution_count": 4,
   "id": "280380d2",
   "metadata": {
    "hidden": true
   },
   "outputs": [
    {
     "name": "stdout",
     "output_type": "stream",
     "text": [
      "<class 'pandas.core.frame.DataFrame'>\n",
      "RangeIndex: 284807 entries, 0 to 284806\n",
      "Data columns (total 31 columns):\n",
      " #   Column  Non-Null Count   Dtype  \n",
      "---  ------  --------------   -----  \n",
      " 0   Time    284807 non-null  float64\n",
      " 1   V1      284807 non-null  float64\n",
      " 2   V2      284807 non-null  float64\n",
      " 3   V3      284807 non-null  float64\n",
      " 4   V4      284807 non-null  float64\n",
      " 5   V5      284807 non-null  float64\n",
      " 6   V6      284807 non-null  float64\n",
      " 7   V7      284807 non-null  float64\n",
      " 8   V8      284807 non-null  float64\n",
      " 9   V9      284807 non-null  float64\n",
      " 10  V10     284807 non-null  float64\n",
      " 11  V11     284807 non-null  float64\n",
      " 12  V12     284807 non-null  float64\n",
      " 13  V13     284807 non-null  float64\n",
      " 14  V14     284807 non-null  float64\n",
      " 15  V15     284807 non-null  float64\n",
      " 16  V16     284807 non-null  float64\n",
      " 17  V17     284807 non-null  float64\n",
      " 18  V18     284807 non-null  float64\n",
      " 19  V19     284807 non-null  float64\n",
      " 20  V20     284807 non-null  float64\n",
      " 21  V21     284807 non-null  float64\n",
      " 22  V22     284807 non-null  float64\n",
      " 23  V23     284807 non-null  float64\n",
      " 24  V24     284807 non-null  float64\n",
      " 25  V25     284807 non-null  float64\n",
      " 26  V26     284807 non-null  float64\n",
      " 27  V27     284807 non-null  float64\n",
      " 28  V28     284807 non-null  float64\n",
      " 29  Amount  284807 non-null  float64\n",
      " 30  Class   284807 non-null  int64  \n",
      "dtypes: float64(30), int64(1)\n",
      "memory usage: 67.4 MB\n"
     ]
    }
   ],
   "source": [
    "df1.info()"
   ]
  },
  {
   "cell_type": "markdown",
   "id": "d6996f0c",
   "metadata": {
    "hidden": true
   },
   "source": [
    "1. No null values\n",
    "2. Target variable is the column called \"Class\"\n",
    "3. Aside from \"Time\" and \"Amount\", all other columns have been PCA reduced and can't be explained\n",
    "4. No need to change column names or types"
   ]
  },
  {
   "cell_type": "markdown",
   "id": "114c40e8",
   "metadata": {},
   "source": [
    "## 2. FEATURE ENGINEERING AND EDA"
   ]
  },
  {
   "cell_type": "code",
   "execution_count": 5,
   "id": "eba8e8bc",
   "metadata": {},
   "outputs": [],
   "source": [
    "df2 = df1.copy()"
   ]
  },
  {
   "cell_type": "markdown",
   "id": "998e7bef",
   "metadata": {},
   "source": [
    "### 2.1. MINDMAP OF HYPOTHESIS"
   ]
  },
  {
   "cell_type": "markdown",
   "id": "702b8002",
   "metadata": {},
   "source": [
    "Since most columns have been PCA reduced, one can only create hypothesis about the known columns:\n",
    "\n",
    "1. Does time significantly affect the number of frauds?\n",
    "2. Does the amount have to do with a transaction being classified as fraud?"
   ]
  },
  {
   "cell_type": "markdown",
   "id": "03f84abf",
   "metadata": {},
   "source": [
    "### 2.2. UNIVARIATE ANALYSIS"
   ]
  },
  {
   "cell_type": "markdown",
   "id": "9fea4ee5",
   "metadata": {},
   "source": [
    "### 2.2.1. TARGET VARIABLE"
   ]
  },
  {
   "cell_type": "code",
   "execution_count": 11,
   "id": "b6099f07",
   "metadata": {},
   "outputs": [
    {
     "data": {
      "image/png": "[encoded data removed]",
      "text/plain": [
       "<Figure size 432x288 with 1 Axes>"
      ]
     },
     "metadata": {
      "needs_background": "light"
     },
     "output_type": "display_data"
    }
   ],
   "source": [
    "plot = sns.countplot(x = df2['Class'])\n",
    "labels = df2['Class'].value_counts().values\n",
    "plot.bar_label(container=plot.containers[0], labels=labels)\n",
    "plot.set(title = \"Imbalanced data with fraud detection\");"
   ]
  },
  {
   "cell_type": "markdown",
   "id": "e79f3612",
   "metadata": {},
   "source": [
    "### 2.2.2. FEATURES"
   ]
  },
  {
   "cell_type": "code",
   "execution_count": 15,
   "id": "1b2d5d47",
   "metadata": {},
   "outputs": [
    {
     "data": {
      "text/html": [
       "<div>\n",
       "<style scoped>\n",
       "    .dataframe tbody tr th:only-of-type {\n",
       "        vertical-align: middle;\n",
       "    }\n",
       "\n",
       "    .dataframe tbody tr th {\n",
       "        vertical-align: top;\n",
       "    }\n",
       "\n",
       "    .dataframe thead th {\n",
       "        text-align: right;\n",
       "    }\n",
       "</style>\n",
       "<table border=\"1\" class=\"dataframe\">\n",
       "  <thead>\n",
       "    <tr style=\"text-align: right;\">\n",
       "      <th></th>\n",
       "      <th>Time</th>\n",
       "      <th>V1</th>\n",
       "      <th>V2</th>\n",
       "      <th>V3</th>\n",
       "      <th>V4</th>\n",
       "      <th>V5</th>\n",
       "      <th>V6</th>\n",
       "      <th>V7</th>\n",
       "      <th>V8</th>\n",
       "      <th>V9</th>\n",
       "      <th>...</th>\n",
       "      <th>V21</th>\n",
       "      <th>V22</th>\n",
       "      <th>V23</th>\n",
       "      <th>V24</th>\n",
       "      <th>V25</th>\n",
       "      <th>V26</th>\n",
       "      <th>V27</th>\n",
       "      <th>V28</th>\n",
       "      <th>Amount</th>\n",
       "      <th>Class</th>\n",
       "    </tr>\n",
       "  </thead>\n",
       "  <tbody>\n",
       "    <tr>\n",
       "      <th>254305</th>\n",
       "      <td>156669.0</td>\n",
       "      <td>0.010497</td>\n",
       "      <td>0.941075</td>\n",
       "      <td>-0.662060</td>\n",
       "      <td>-0.902317</td>\n",
       "      <td>1.276132</td>\n",
       "      <td>-0.030963</td>\n",
       "      <td>0.967567</td>\n",
       "      <td>-0.024820</td>\n",
       "      <td>0.293717</td>\n",
       "      <td>...</td>\n",
       "      <td>-0.429481</td>\n",
       "      <td>-0.940900</td>\n",
       "      <td>-0.002074</td>\n",
       "      <td>-0.261303</td>\n",
       "      <td>-0.396195</td>\n",
       "      <td>0.124297</td>\n",
       "      <td>0.157354</td>\n",
       "      <td>-0.101501</td>\n",
       "      <td>10.67</td>\n",
       "      <td>0</td>\n",
       "    </tr>\n",
       "    <tr>\n",
       "      <th>249529</th>\n",
       "      <td>154450.0</td>\n",
       "      <td>2.041190</td>\n",
       "      <td>-0.049845</td>\n",
       "      <td>-1.160800</td>\n",
       "      <td>0.217688</td>\n",
       "      <td>0.145191</td>\n",
       "      <td>-0.685660</td>\n",
       "      <td>0.133655</td>\n",
       "      <td>-0.216032</td>\n",
       "      <td>0.174624</td>\n",
       "      <td>...</td>\n",
       "      <td>-0.248360</td>\n",
       "      <td>-0.576048</td>\n",
       "      <td>0.277424</td>\n",
       "      <td>-0.312620</td>\n",
       "      <td>-0.257261</td>\n",
       "      <td>0.195363</td>\n",
       "      <td>-0.069530</td>\n",
       "      <td>-0.071404</td>\n",
       "      <td>2.49</td>\n",
       "      <td>0</td>\n",
       "    </tr>\n",
       "    <tr>\n",
       "      <th>99368</th>\n",
       "      <td>67086.0</td>\n",
       "      <td>0.034372</td>\n",
       "      <td>-2.336113</td>\n",
       "      <td>0.266525</td>\n",
       "      <td>-0.068551</td>\n",
       "      <td>-1.753702</td>\n",
       "      <td>-0.396029</td>\n",
       "      <td>0.307402</td>\n",
       "      <td>-0.205319</td>\n",
       "      <td>1.872596</td>\n",
       "      <td>...</td>\n",
       "      <td>0.217858</td>\n",
       "      <td>-0.355270</td>\n",
       "      <td>-0.580285</td>\n",
       "      <td>0.452144</td>\n",
       "      <td>0.355991</td>\n",
       "      <td>-0.797497</td>\n",
       "      <td>-0.011909</td>\n",
       "      <td>0.142431</td>\n",
       "      <td>620.97</td>\n",
       "      <td>0</td>\n",
       "    </tr>\n",
       "    <tr>\n",
       "      <th>202687</th>\n",
       "      <td>134445.0</td>\n",
       "      <td>-1.104526</td>\n",
       "      <td>1.716083</td>\n",
       "      <td>-1.124709</td>\n",
       "      <td>-0.613869</td>\n",
       "      <td>0.274511</td>\n",
       "      <td>-0.551769</td>\n",
       "      <td>0.208391</td>\n",
       "      <td>0.701513</td>\n",
       "      <td>-0.428360</td>\n",
       "      <td>...</td>\n",
       "      <td>0.513819</td>\n",
       "      <td>1.456796</td>\n",
       "      <td>0.055991</td>\n",
       "      <td>0.760344</td>\n",
       "      <td>-0.705196</td>\n",
       "      <td>-0.287211</td>\n",
       "      <td>0.105205</td>\n",
       "      <td>0.245040</td>\n",
       "      <td>2.29</td>\n",
       "      <td>0</td>\n",
       "    </tr>\n",
       "    <tr>\n",
       "      <th>159452</th>\n",
       "      <td>112493.0</td>\n",
       "      <td>0.003812</td>\n",
       "      <td>0.986335</td>\n",
       "      <td>-2.869934</td>\n",
       "      <td>-1.120128</td>\n",
       "      <td>3.551072</td>\n",
       "      <td>2.809154</td>\n",
       "      <td>0.717698</td>\n",
       "      <td>1.030512</td>\n",
       "      <td>-0.869649</td>\n",
       "      <td>...</td>\n",
       "      <td>0.409559</td>\n",
       "      <td>1.003518</td>\n",
       "      <td>0.157891</td>\n",
       "      <td>0.688755</td>\n",
       "      <td>-1.300254</td>\n",
       "      <td>-0.911119</td>\n",
       "      <td>0.229297</td>\n",
       "      <td>0.266327</td>\n",
       "      <td>6.00</td>\n",
       "      <td>0</td>\n",
       "    </tr>\n",
       "  </tbody>\n",
       "</table>\n",
       "<p>5 rows × 31 columns</p>\n",
       "</div>"
      ],
      "text/plain": [
       "            Time        V1        V2        V3        V4        V5        V6  \\\n",
       "254305  156669.0  0.010497  0.941075 -0.662060 -0.902317  1.276132 -0.030963   \n",
       "249529  154450.0  2.041190 -0.049845 -1.160800  0.217688  0.145191 -0.685660   \n",
       "99368    67086.0  0.034372 -2.336113  0.266525 -0.068551 -1.753702 -0.396029   \n",
       "202687  134445.0 -1.104526  1.716083 -1.124709 -0.613869  0.274511 -0.551769   \n",
       "159452  112493.0  0.003812  0.986335 -2.869934 -1.120128  3.551072  2.809154   \n",
       "\n",
       "              V7        V8        V9  ...       V21       V22       V23  \\\n",
       "254305  0.967567 -0.024820  0.293717  ... -0.429481 -0.940900 -0.002074   \n",
       "249529  0.133655 -0.216032  0.174624  ... -0.248360 -0.576048  0.277424   \n",
       "99368   0.307402 -0.205319  1.872596  ...  0.217858 -0.355270 -0.580285   \n",
       "202687  0.208391  0.701513 -0.428360  ...  0.513819  1.456796  0.055991   \n",
       "159452  0.717698  1.030512 -0.869649  ...  0.409559  1.003518  0.157891   \n",
       "\n",
       "             V24       V25       V26       V27       V28  Amount  Class  \n",
       "254305 -0.261303 -0.396195  0.124297  0.157354 -0.101501   10.67      0  \n",
       "249529 -0.312620 -0.257261  0.195363 -0.069530 -0.071404    2.49      0  \n",
       "99368   0.452144  0.355991 -0.797497 -0.011909  0.142431  620.97      0  \n",
       "202687  0.760344 -0.705196 -0.287211  0.105205  0.245040    2.29      0  \n",
       "159452  0.688755 -1.300254 -0.911119  0.229297  0.266327    6.00      0  \n",
       "\n",
       "[5 rows x 31 columns]"
      ]
     },
     "execution_count": 15,
     "metadata": {},
     "output_type": "execute_result"
    }
   ],
   "source": [
    "sample = df2.sample(1000)\n",
    "sample.head()"
   ]
  },
  {
   "cell_type": "code",
   "execution_count": 19,
   "id": "0043b96e",
   "metadata": {},
   "outputs": [
    {
     "data": {
      "text/plain": [
       "<AxesSubplot:xlabel='Amount', ylabel='Count'>"
      ]
     },
     "execution_count": 19,
     "metadata": {},
     "output_type": "execute_result"
    },
    {
     "data": {
      "image/png": "[encoded data removed]",
      "text/plain": [
       "<Figure size 432x288 with 1 Axes>"
      ]
     },
     "metadata": {
      "needs_background": "light"
     },
     "output_type": "display_data"
    }
   ],
   "source": [
    "sns.histplot(x = sample['Amount'], bins = 20)"
   ]
  },
  {
   "cell_type": "code",
   "execution_count": null,
   "id": "b379af64",
   "metadata": {},
   "outputs": [],
   "source": []
  }
 ],
 "metadata": {
  "kernelspec": {
   "display_name": "Python 3 (ipykernel)",
   "language": "python",
   "name": "python3"
  },
  "language_info": {
   "codemirror_mode": {
    "name": "ipython",
    "version": 3
   },
   "file_extension": ".py",
   "mimetype": "text/x-python",
   "name": "python",
   "nbconvert_exporter": "python",
   "pygments_lexer": "ipython3",
   "version": "3.9.12"
  }
 },
 "nbformat": 4,
 "nbformat_minor": 5
}
