{
 "cells": [
  {
   "cell_type": "markdown",
   "id": "b7521ca0",
   "metadata": {},
   "source": [
    "## 0. PROJECT SETUP"
   ]
  },
  {
   "cell_type": "markdown",
   "id": "cdc69730",
   "metadata": {},
   "source": [
    "### 0.1. IMPORTS"
   ]
  },
  {
   "cell_type": "code",
   "execution_count": 120,
   "id": "12cbed26",
   "metadata": {},
   "outputs": [],
   "source": [
    "import pandas as pd\n",
    "import numpy as np\n",
    "import matplotlib.pyplot as plt\n",
    "import seaborn as sns\n",
    "\n",
    "from sklearn.linear_model import LogisticRegression\n",
    "from sklearn.ensemble import RandomForestClassifier\n",
    "from sklearn.model_selection import train_test_split\n",
    "from sklearn.metrics import confusion_matrix, classification_report\n",
    "from imblearn.over_sampling import RandomOverSampler, SMOTE\n",
    "from imblearn.under_sampling import RandomUnderSampler, NearMiss\n",
    "from imblearn.pipeline import Pipeline"
   ]
  },
  {
   "cell_type": "markdown",
   "id": "33190746",
   "metadata": {
    "heading_collapsed": true
   },
   "source": [
    "### 0.2. SOURCES"
   ]
  },
  {
   "cell_type": "markdown",
   "id": "3616b6c6",
   "metadata": {
    "hidden": true
   },
   "source": [
    "The data set used on this project can be found at: https://data.world/raghu543/credit-card-fraud-data"
   ]
  },
  {
   "cell_type": "markdown",
   "id": "afbbc192",
   "metadata": {},
   "source": [
    "### 0.3. FUNCTIONS"
   ]
  },
  {
   "cell_type": "code",
   "execution_count": 153,
   "id": "f1e5e3c6",
   "metadata": {},
   "outputs": [],
   "source": [
    "def confusion_matrix_dataframe(model, X_test, y_test):\n",
    "    '''\n",
    "    Receives model and returns dataframe with information from confusion matrix.\n",
    "    '''\n",
    "    \n",
    "    # Makes predictions and returns data from confusion matrix\n",
    "    predictions = model.predict(X_test)\n",
    "    matrix = confusion_matrix(y_test, predictions)\n",
    "    response = dict(True_Positives = matrix[0][0],\n",
    "                   False_Positives = matrix[0][1],\n",
    "                   True_Negatives = matrix[1][0],\n",
    "                   False_Negatives = matrix[1][1],)\n",
    "    return pd.DataFrame(response, index = [model.steps[0][0]])"
   ]
  },
  {
   "cell_type": "markdown",
   "id": "ebba0197",
   "metadata": {
    "heading_collapsed": true
   },
   "source": [
    "## 1. CREATING DATAFRAME"
   ]
  },
  {
   "cell_type": "markdown",
   "id": "96cb0195",
   "metadata": {
    "heading_collapsed": true,
    "hidden": true
   },
   "source": [
    "### 1.1. INSERTING DATA"
   ]
  },
  {
   "cell_type": "code",
   "execution_count": 3,
   "id": "4914695b",
   "metadata": {
    "hidden": true
   },
   "outputs": [
    {
     "data": {
      "text/html": [
       "<div>\n",
       "<style scoped>\n",
       "    .dataframe tbody tr th:only-of-type {\n",
       "        vertical-align: middle;\n",
       "    }\n",
       "\n",
       "    .dataframe tbody tr th {\n",
       "        vertical-align: top;\n",
       "    }\n",
       "\n",
       "    .dataframe thead th {\n",
       "        text-align: right;\n",
       "    }\n",
       "</style>\n",
       "<table border=\"1\" class=\"dataframe\">\n",
       "  <thead>\n",
       "    <tr style=\"text-align: right;\">\n",
       "      <th></th>\n",
       "      <th>Time</th>\n",
       "      <th>V1</th>\n",
       "      <th>V2</th>\n",
       "      <th>V3</th>\n",
       "      <th>V4</th>\n",
       "      <th>V5</th>\n",
       "      <th>V6</th>\n",
       "      <th>V7</th>\n",
       "      <th>V8</th>\n",
       "      <th>V9</th>\n",
       "      <th>...</th>\n",
       "      <th>V21</th>\n",
       "      <th>V22</th>\n",
       "      <th>V23</th>\n",
       "      <th>V24</th>\n",
       "      <th>V25</th>\n",
       "      <th>V26</th>\n",
       "      <th>V27</th>\n",
       "      <th>V28</th>\n",
       "      <th>Amount</th>\n",
       "      <th>Class</th>\n",
       "    </tr>\n",
       "  </thead>\n",
       "  <tbody>\n",
       "    <tr>\n",
       "      <th>0</th>\n",
       "      <td>0.0</td>\n",
       "      <td>-1.359807</td>\n",
       "      <td>-0.072781</td>\n",
       "      <td>2.536347</td>\n",
       "      <td>1.378155</td>\n",
       "      <td>-0.338321</td>\n",
       "      <td>0.462388</td>\n",
       "      <td>0.239599</td>\n",
       "      <td>0.098698</td>\n",
       "      <td>0.363787</td>\n",
       "      <td>...</td>\n",
       "      <td>-0.018307</td>\n",
       "      <td>0.277838</td>\n",
       "      <td>-0.110474</td>\n",
       "      <td>0.066928</td>\n",
       "      <td>0.128539</td>\n",
       "      <td>-0.189115</td>\n",
       "      <td>0.133558</td>\n",
       "      <td>-0.021053</td>\n",
       "      <td>149.62</td>\n",
       "      <td>0</td>\n",
       "    </tr>\n",
       "    <tr>\n",
       "      <th>1</th>\n",
       "      <td>0.0</td>\n",
       "      <td>1.191857</td>\n",
       "      <td>0.266151</td>\n",
       "      <td>0.166480</td>\n",
       "      <td>0.448154</td>\n",
       "      <td>0.060018</td>\n",
       "      <td>-0.082361</td>\n",
       "      <td>-0.078803</td>\n",
       "      <td>0.085102</td>\n",
       "      <td>-0.255425</td>\n",
       "      <td>...</td>\n",
       "      <td>-0.225775</td>\n",
       "      <td>-0.638672</td>\n",
       "      <td>0.101288</td>\n",
       "      <td>-0.339846</td>\n",
       "      <td>0.167170</td>\n",
       "      <td>0.125895</td>\n",
       "      <td>-0.008983</td>\n",
       "      <td>0.014724</td>\n",
       "      <td>2.69</td>\n",
       "      <td>0</td>\n",
       "    </tr>\n",
       "    <tr>\n",
       "      <th>2</th>\n",
       "      <td>1.0</td>\n",
       "      <td>-1.358354</td>\n",
       "      <td>-1.340163</td>\n",
       "      <td>1.773209</td>\n",
       "      <td>0.379780</td>\n",
       "      <td>-0.503198</td>\n",
       "      <td>1.800499</td>\n",
       "      <td>0.791461</td>\n",
       "      <td>0.247676</td>\n",
       "      <td>-1.514654</td>\n",
       "      <td>...</td>\n",
       "      <td>0.247998</td>\n",
       "      <td>0.771679</td>\n",
       "      <td>0.909412</td>\n",
       "      <td>-0.689281</td>\n",
       "      <td>-0.327642</td>\n",
       "      <td>-0.139097</td>\n",
       "      <td>-0.055353</td>\n",
       "      <td>-0.059752</td>\n",
       "      <td>378.66</td>\n",
       "      <td>0</td>\n",
       "    </tr>\n",
       "    <tr>\n",
       "      <th>3</th>\n",
       "      <td>1.0</td>\n",
       "      <td>-0.966272</td>\n",
       "      <td>-0.185226</td>\n",
       "      <td>1.792993</td>\n",
       "      <td>-0.863291</td>\n",
       "      <td>-0.010309</td>\n",
       "      <td>1.247203</td>\n",
       "      <td>0.237609</td>\n",
       "      <td>0.377436</td>\n",
       "      <td>-1.387024</td>\n",
       "      <td>...</td>\n",
       "      <td>-0.108300</td>\n",
       "      <td>0.005274</td>\n",
       "      <td>-0.190321</td>\n",
       "      <td>-1.175575</td>\n",
       "      <td>0.647376</td>\n",
       "      <td>-0.221929</td>\n",
       "      <td>0.062723</td>\n",
       "      <td>0.061458</td>\n",
       "      <td>123.50</td>\n",
       "      <td>0</td>\n",
       "    </tr>\n",
       "    <tr>\n",
       "      <th>4</th>\n",
       "      <td>2.0</td>\n",
       "      <td>-1.158233</td>\n",
       "      <td>0.877737</td>\n",
       "      <td>1.548718</td>\n",
       "      <td>0.403034</td>\n",
       "      <td>-0.407193</td>\n",
       "      <td>0.095921</td>\n",
       "      <td>0.592941</td>\n",
       "      <td>-0.270533</td>\n",
       "      <td>0.817739</td>\n",
       "      <td>...</td>\n",
       "      <td>-0.009431</td>\n",
       "      <td>0.798278</td>\n",
       "      <td>-0.137458</td>\n",
       "      <td>0.141267</td>\n",
       "      <td>-0.206010</td>\n",
       "      <td>0.502292</td>\n",
       "      <td>0.219422</td>\n",
       "      <td>0.215153</td>\n",
       "      <td>69.99</td>\n",
       "      <td>0</td>\n",
       "    </tr>\n",
       "  </tbody>\n",
       "</table>\n",
       "<p>5 rows × 31 columns</p>\n",
       "</div>"
      ],
      "text/plain": [
       "   Time        V1        V2        V3        V4        V5        V6        V7  \\\n",
       "0   0.0 -1.359807 -0.072781  2.536347  1.378155 -0.338321  0.462388  0.239599   \n",
       "1   0.0  1.191857  0.266151  0.166480  0.448154  0.060018 -0.082361 -0.078803   \n",
       "2   1.0 -1.358354 -1.340163  1.773209  0.379780 -0.503198  1.800499  0.791461   \n",
       "3   1.0 -0.966272 -0.185226  1.792993 -0.863291 -0.010309  1.247203  0.237609   \n",
       "4   2.0 -1.158233  0.877737  1.548718  0.403034 -0.407193  0.095921  0.592941   \n",
       "\n",
       "         V8        V9  ...       V21       V22       V23       V24       V25  \\\n",
       "0  0.098698  0.363787  ... -0.018307  0.277838 -0.110474  0.066928  0.128539   \n",
       "1  0.085102 -0.255425  ... -0.225775 -0.638672  0.101288 -0.339846  0.167170   \n",
       "2  0.247676 -1.514654  ...  0.247998  0.771679  0.909412 -0.689281 -0.327642   \n",
       "3  0.377436 -1.387024  ... -0.108300  0.005274 -0.190321 -1.175575  0.647376   \n",
       "4 -0.270533  0.817739  ... -0.009431  0.798278 -0.137458  0.141267 -0.206010   \n",
       "\n",
       "        V26       V27       V28  Amount  Class  \n",
       "0 -0.189115  0.133558 -0.021053  149.62      0  \n",
       "1  0.125895 -0.008983  0.014724    2.69      0  \n",
       "2 -0.139097 -0.055353 -0.059752  378.66      0  \n",
       "3 -0.221929  0.062723  0.061458  123.50      0  \n",
       "4  0.502292  0.219422  0.215153   69.99      0  \n",
       "\n",
       "[5 rows x 31 columns]"
      ]
     },
     "execution_count": 3,
     "metadata": {},
     "output_type": "execute_result"
    }
   ],
   "source": [
    "df1 = pd.read_csv(\"creditcard.csv\")\n",
    "df1.head()"
   ]
  },
  {
   "cell_type": "markdown",
   "id": "5e9b27fe",
   "metadata": {
    "heading_collapsed": true,
    "hidden": true
   },
   "source": [
    "### 1.2. UNDERSTANDING THE DATA"
   ]
  },
  {
   "cell_type": "code",
   "execution_count": 4,
   "id": "280380d2",
   "metadata": {
    "hidden": true
   },
   "outputs": [
    {
     "name": "stdout",
     "output_type": "stream",
     "text": [
      "<class 'pandas.core.frame.DataFrame'>\n",
      "RangeIndex: 284807 entries, 0 to 284806\n",
      "Data columns (total 31 columns):\n",
      " #   Column  Non-Null Count   Dtype  \n",
      "---  ------  --------------   -----  \n",
      " 0   Time    284807 non-null  float64\n",
      " 1   V1      284807 non-null  float64\n",
      " 2   V2      284807 non-null  float64\n",
      " 3   V3      284807 non-null  float64\n",
      " 4   V4      284807 non-null  float64\n",
      " 5   V5      284807 non-null  float64\n",
      " 6   V6      284807 non-null  float64\n",
      " 7   V7      284807 non-null  float64\n",
      " 8   V8      284807 non-null  float64\n",
      " 9   V9      284807 non-null  float64\n",
      " 10  V10     284807 non-null  float64\n",
      " 11  V11     284807 non-null  float64\n",
      " 12  V12     284807 non-null  float64\n",
      " 13  V13     284807 non-null  float64\n",
      " 14  V14     284807 non-null  float64\n",
      " 15  V15     284807 non-null  float64\n",
      " 16  V16     284807 non-null  float64\n",
      " 17  V17     284807 non-null  float64\n",
      " 18  V18     284807 non-null  float64\n",
      " 19  V19     284807 non-null  float64\n",
      " 20  V20     284807 non-null  float64\n",
      " 21  V21     284807 non-null  float64\n",
      " 22  V22     284807 non-null  float64\n",
      " 23  V23     284807 non-null  float64\n",
      " 24  V24     284807 non-null  float64\n",
      " 25  V25     284807 non-null  float64\n",
      " 26  V26     284807 non-null  float64\n",
      " 27  V27     284807 non-null  float64\n",
      " 28  V28     284807 non-null  float64\n",
      " 29  Amount  284807 non-null  float64\n",
      " 30  Class   284807 non-null  int64  \n",
      "dtypes: float64(30), int64(1)\n",
      "memory usage: 67.4 MB\n"
     ]
    }
   ],
   "source": [
    "df1.info()"
   ]
  },
  {
   "cell_type": "code",
   "execution_count": 25,
   "id": "8b35a20b",
   "metadata": {
    "hidden": true
   },
   "outputs": [
    {
     "data": {
      "text/html": [
       "<div>\n",
       "<style scoped>\n",
       "    .dataframe tbody tr th:only-of-type {\n",
       "        vertical-align: middle;\n",
       "    }\n",
       "\n",
       "    .dataframe tbody tr th {\n",
       "        vertical-align: top;\n",
       "    }\n",
       "\n",
       "    .dataframe thead th {\n",
       "        text-align: right;\n",
       "    }\n",
       "</style>\n",
       "<table border=\"1\" class=\"dataframe\">\n",
       "  <thead>\n",
       "    <tr style=\"text-align: right;\">\n",
       "      <th></th>\n",
       "      <th>Time</th>\n",
       "      <th>V1</th>\n",
       "      <th>V2</th>\n",
       "      <th>V3</th>\n",
       "      <th>V4</th>\n",
       "      <th>V5</th>\n",
       "      <th>V6</th>\n",
       "      <th>V7</th>\n",
       "      <th>V8</th>\n",
       "      <th>V9</th>\n",
       "      <th>...</th>\n",
       "      <th>V21</th>\n",
       "      <th>V22</th>\n",
       "      <th>V23</th>\n",
       "      <th>V24</th>\n",
       "      <th>V25</th>\n",
       "      <th>V26</th>\n",
       "      <th>V27</th>\n",
       "      <th>V28</th>\n",
       "      <th>Amount</th>\n",
       "      <th>Class</th>\n",
       "    </tr>\n",
       "  </thead>\n",
       "  <tbody>\n",
       "    <tr>\n",
       "      <th>count</th>\n",
       "      <td>284807.000</td>\n",
       "      <td>284807.000</td>\n",
       "      <td>284807.000</td>\n",
       "      <td>284807.000</td>\n",
       "      <td>284807.000</td>\n",
       "      <td>284807.000</td>\n",
       "      <td>284807.000</td>\n",
       "      <td>284807.000</td>\n",
       "      <td>284807.000</td>\n",
       "      <td>284807.000</td>\n",
       "      <td>...</td>\n",
       "      <td>284807.000</td>\n",
       "      <td>284807.000</td>\n",
       "      <td>284807.000</td>\n",
       "      <td>284807.000</td>\n",
       "      <td>284807.000</td>\n",
       "      <td>284807.000</td>\n",
       "      <td>284807.000</td>\n",
       "      <td>284807.000</td>\n",
       "      <td>284807.000</td>\n",
       "      <td>284807.000</td>\n",
       "    </tr>\n",
       "    <tr>\n",
       "      <th>mean</th>\n",
       "      <td>94813.860</td>\n",
       "      <td>0.000</td>\n",
       "      <td>0.000</td>\n",
       "      <td>-0.000</td>\n",
       "      <td>0.000</td>\n",
       "      <td>-0.000</td>\n",
       "      <td>0.000</td>\n",
       "      <td>-0.000</td>\n",
       "      <td>-0.000</td>\n",
       "      <td>-0.000</td>\n",
       "      <td>...</td>\n",
       "      <td>0.000</td>\n",
       "      <td>0.000</td>\n",
       "      <td>0.000</td>\n",
       "      <td>0.000</td>\n",
       "      <td>0.000</td>\n",
       "      <td>0.000</td>\n",
       "      <td>-0.000</td>\n",
       "      <td>-0.000</td>\n",
       "      <td>88.350</td>\n",
       "      <td>0.002</td>\n",
       "    </tr>\n",
       "    <tr>\n",
       "      <th>std</th>\n",
       "      <td>47488.146</td>\n",
       "      <td>1.959</td>\n",
       "      <td>1.651</td>\n",
       "      <td>1.516</td>\n",
       "      <td>1.416</td>\n",
       "      <td>1.380</td>\n",
       "      <td>1.332</td>\n",
       "      <td>1.237</td>\n",
       "      <td>1.194</td>\n",
       "      <td>1.099</td>\n",
       "      <td>...</td>\n",
       "      <td>0.735</td>\n",
       "      <td>0.726</td>\n",
       "      <td>0.624</td>\n",
       "      <td>0.606</td>\n",
       "      <td>0.521</td>\n",
       "      <td>0.482</td>\n",
       "      <td>0.404</td>\n",
       "      <td>0.330</td>\n",
       "      <td>250.120</td>\n",
       "      <td>0.042</td>\n",
       "    </tr>\n",
       "    <tr>\n",
       "      <th>min</th>\n",
       "      <td>0.000</td>\n",
       "      <td>-56.408</td>\n",
       "      <td>-72.716</td>\n",
       "      <td>-48.326</td>\n",
       "      <td>-5.683</td>\n",
       "      <td>-113.743</td>\n",
       "      <td>-26.161</td>\n",
       "      <td>-43.557</td>\n",
       "      <td>-73.217</td>\n",
       "      <td>-13.434</td>\n",
       "      <td>...</td>\n",
       "      <td>-34.830</td>\n",
       "      <td>-10.933</td>\n",
       "      <td>-44.808</td>\n",
       "      <td>-2.837</td>\n",
       "      <td>-10.295</td>\n",
       "      <td>-2.605</td>\n",
       "      <td>-22.566</td>\n",
       "      <td>-15.430</td>\n",
       "      <td>0.000</td>\n",
       "      <td>0.000</td>\n",
       "    </tr>\n",
       "    <tr>\n",
       "      <th>25%</th>\n",
       "      <td>54201.500</td>\n",
       "      <td>-0.920</td>\n",
       "      <td>-0.599</td>\n",
       "      <td>-0.890</td>\n",
       "      <td>-0.849</td>\n",
       "      <td>-0.692</td>\n",
       "      <td>-0.768</td>\n",
       "      <td>-0.554</td>\n",
       "      <td>-0.209</td>\n",
       "      <td>-0.643</td>\n",
       "      <td>...</td>\n",
       "      <td>-0.228</td>\n",
       "      <td>-0.542</td>\n",
       "      <td>-0.162</td>\n",
       "      <td>-0.355</td>\n",
       "      <td>-0.317</td>\n",
       "      <td>-0.327</td>\n",
       "      <td>-0.071</td>\n",
       "      <td>-0.053</td>\n",
       "      <td>5.600</td>\n",
       "      <td>0.000</td>\n",
       "    </tr>\n",
       "    <tr>\n",
       "      <th>50%</th>\n",
       "      <td>84692.000</td>\n",
       "      <td>0.018</td>\n",
       "      <td>0.065</td>\n",
       "      <td>0.180</td>\n",
       "      <td>-0.020</td>\n",
       "      <td>-0.054</td>\n",
       "      <td>-0.274</td>\n",
       "      <td>0.040</td>\n",
       "      <td>0.022</td>\n",
       "      <td>-0.051</td>\n",
       "      <td>...</td>\n",
       "      <td>-0.029</td>\n",
       "      <td>0.007</td>\n",
       "      <td>-0.011</td>\n",
       "      <td>0.041</td>\n",
       "      <td>0.017</td>\n",
       "      <td>-0.052</td>\n",
       "      <td>0.001</td>\n",
       "      <td>0.011</td>\n",
       "      <td>22.000</td>\n",
       "      <td>0.000</td>\n",
       "    </tr>\n",
       "    <tr>\n",
       "      <th>75%</th>\n",
       "      <td>139320.500</td>\n",
       "      <td>1.316</td>\n",
       "      <td>0.804</td>\n",
       "      <td>1.027</td>\n",
       "      <td>0.743</td>\n",
       "      <td>0.612</td>\n",
       "      <td>0.399</td>\n",
       "      <td>0.570</td>\n",
       "      <td>0.327</td>\n",
       "      <td>0.597</td>\n",
       "      <td>...</td>\n",
       "      <td>0.186</td>\n",
       "      <td>0.529</td>\n",
       "      <td>0.148</td>\n",
       "      <td>0.440</td>\n",
       "      <td>0.351</td>\n",
       "      <td>0.241</td>\n",
       "      <td>0.091</td>\n",
       "      <td>0.078</td>\n",
       "      <td>77.165</td>\n",
       "      <td>0.000</td>\n",
       "    </tr>\n",
       "    <tr>\n",
       "      <th>max</th>\n",
       "      <td>172792.000</td>\n",
       "      <td>2.455</td>\n",
       "      <td>22.058</td>\n",
       "      <td>9.383</td>\n",
       "      <td>16.875</td>\n",
       "      <td>34.802</td>\n",
       "      <td>73.302</td>\n",
       "      <td>120.589</td>\n",
       "      <td>20.007</td>\n",
       "      <td>15.595</td>\n",
       "      <td>...</td>\n",
       "      <td>27.203</td>\n",
       "      <td>10.503</td>\n",
       "      <td>22.528</td>\n",
       "      <td>4.585</td>\n",
       "      <td>7.520</td>\n",
       "      <td>3.517</td>\n",
       "      <td>31.612</td>\n",
       "      <td>33.848</td>\n",
       "      <td>25691.160</td>\n",
       "      <td>1.000</td>\n",
       "    </tr>\n",
       "  </tbody>\n",
       "</table>\n",
       "<p>8 rows × 31 columns</p>\n",
       "</div>"
      ],
      "text/plain": [
       "            Time         V1         V2         V3         V4         V5  \\\n",
       "count 284807.000 284807.000 284807.000 284807.000 284807.000 284807.000   \n",
       "mean   94813.860      0.000      0.000     -0.000      0.000     -0.000   \n",
       "std    47488.146      1.959      1.651      1.516      1.416      1.380   \n",
       "min        0.000    -56.408    -72.716    -48.326     -5.683   -113.743   \n",
       "25%    54201.500     -0.920     -0.599     -0.890     -0.849     -0.692   \n",
       "50%    84692.000      0.018      0.065      0.180     -0.020     -0.054   \n",
       "75%   139320.500      1.316      0.804      1.027      0.743      0.612   \n",
       "max   172792.000      2.455     22.058      9.383     16.875     34.802   \n",
       "\n",
       "              V6         V7         V8         V9  ...        V21        V22  \\\n",
       "count 284807.000 284807.000 284807.000 284807.000  ... 284807.000 284807.000   \n",
       "mean       0.000     -0.000     -0.000     -0.000  ...      0.000      0.000   \n",
       "std        1.332      1.237      1.194      1.099  ...      0.735      0.726   \n",
       "min      -26.161    -43.557    -73.217    -13.434  ...    -34.830    -10.933   \n",
       "25%       -0.768     -0.554     -0.209     -0.643  ...     -0.228     -0.542   \n",
       "50%       -0.274      0.040      0.022     -0.051  ...     -0.029      0.007   \n",
       "75%        0.399      0.570      0.327      0.597  ...      0.186      0.529   \n",
       "max       73.302    120.589     20.007     15.595  ...     27.203     10.503   \n",
       "\n",
       "             V23        V24        V25        V26        V27        V28  \\\n",
       "count 284807.000 284807.000 284807.000 284807.000 284807.000 284807.000   \n",
       "mean       0.000      0.000      0.000      0.000     -0.000     -0.000   \n",
       "std        0.624      0.606      0.521      0.482      0.404      0.330   \n",
       "min      -44.808     -2.837    -10.295     -2.605    -22.566    -15.430   \n",
       "25%       -0.162     -0.355     -0.317     -0.327     -0.071     -0.053   \n",
       "50%       -0.011      0.041      0.017     -0.052      0.001      0.011   \n",
       "75%        0.148      0.440      0.351      0.241      0.091      0.078   \n",
       "max       22.528      4.585      7.520      3.517     31.612     33.848   \n",
       "\n",
       "          Amount      Class  \n",
       "count 284807.000 284807.000  \n",
       "mean      88.350      0.002  \n",
       "std      250.120      0.042  \n",
       "min        0.000      0.000  \n",
       "25%        5.600      0.000  \n",
       "50%       22.000      0.000  \n",
       "75%       77.165      0.000  \n",
       "max    25691.160      1.000  \n",
       "\n",
       "[8 rows x 31 columns]"
      ]
     },
     "execution_count": 25,
     "metadata": {},
     "output_type": "execute_result"
    }
   ],
   "source": [
    "pd.set_option('display.float_format', lambda x: '%.3f' % x)\n",
    "df1.describe()"
   ]
  },
  {
   "cell_type": "markdown",
   "id": "d6996f0c",
   "metadata": {
    "hidden": true
   },
   "source": [
    "1. No null values\n",
    "2. Target variable is the column called \"Class\"\n",
    "3. Aside from \"Time\" and \"Amount\", all other columns have been PCA reduced and can't be explained\n",
    "4. No need to change column names or types\n",
    "5. Features have been standardized but not normalized"
   ]
  },
  {
   "cell_type": "markdown",
   "id": "114c40e8",
   "metadata": {
    "heading_collapsed": true
   },
   "source": [
    "## 2. EDA"
   ]
  },
  {
   "cell_type": "code",
   "execution_count": 5,
   "id": "eba8e8bc",
   "metadata": {
    "hidden": true
   },
   "outputs": [],
   "source": [
    "df2 = df1.copy()"
   ]
  },
  {
   "cell_type": "markdown",
   "id": "998e7bef",
   "metadata": {
    "heading_collapsed": true,
    "hidden": true
   },
   "source": [
    "### 2.1. MINDMAP OF HYPOTHESIS"
   ]
  },
  {
   "cell_type": "markdown",
   "id": "702b8002",
   "metadata": {
    "hidden": true
   },
   "source": [
    "Since most columns have been PCA reduced, one can only create hypothesis about the known columns:\n",
    "\n",
    "1. Does time significantly affect the number of frauds?\n",
    "2. Does the amount have to do with a transaction being classified as fraud?"
   ]
  },
  {
   "cell_type": "markdown",
   "id": "03f84abf",
   "metadata": {
    "heading_collapsed": true,
    "hidden": true
   },
   "source": [
    "### 2.2. EDA"
   ]
  },
  {
   "cell_type": "markdown",
   "id": "9fea4ee5",
   "metadata": {
    "heading_collapsed": true,
    "hidden": true
   },
   "source": [
    "### 2.2.1. TARGET VARIABLE"
   ]
  },
  {
   "cell_type": "code",
   "execution_count": 6,
   "id": "b6099f07",
   "metadata": {
    "hidden": true
   },
   "outputs": [
    {
     "data": {
      "image/png": "[encoded data removed]",
      "text/plain": [
       "<Figure size 432x288 with 1 Axes>"
      ]
     },
     "metadata": {
      "needs_background": "light"
     },
     "output_type": "display_data"
    }
   ],
   "source": [
    "plot = sns.countplot(x = df2['Class'])\n",
    "labels = df2['Class'].value_counts().values\n",
    "plot.bar_label(container=plot.containers[0], labels=labels)\n",
    "plot.set(title = \"Imbalanced data with fraud detection\");"
   ]
  },
  {
   "cell_type": "markdown",
   "id": "e79f3612",
   "metadata": {
    "heading_collapsed": true,
    "hidden": true
   },
   "source": [
    "### 2.2.2. FEATURES"
   ]
  },
  {
   "cell_type": "code",
   "execution_count": 7,
   "id": "1b2d5d47",
   "metadata": {
    "hidden": true
   },
   "outputs": [
    {
     "data": {
      "text/html": [
       "<div>\n",
       "<style scoped>\n",
       "    .dataframe tbody tr th:only-of-type {\n",
       "        vertical-align: middle;\n",
       "    }\n",
       "\n",
       "    .dataframe tbody tr th {\n",
       "        vertical-align: top;\n",
       "    }\n",
       "\n",
       "    .dataframe thead th {\n",
       "        text-align: right;\n",
       "    }\n",
       "</style>\n",
       "<table border=\"1\" class=\"dataframe\">\n",
       "  <thead>\n",
       "    <tr style=\"text-align: right;\">\n",
       "      <th></th>\n",
       "      <th>Time</th>\n",
       "      <th>V1</th>\n",
       "      <th>V2</th>\n",
       "      <th>V3</th>\n",
       "      <th>V4</th>\n",
       "      <th>V5</th>\n",
       "      <th>V6</th>\n",
       "      <th>V7</th>\n",
       "      <th>V8</th>\n",
       "      <th>V9</th>\n",
       "      <th>...</th>\n",
       "      <th>V21</th>\n",
       "      <th>V22</th>\n",
       "      <th>V23</th>\n",
       "      <th>V24</th>\n",
       "      <th>V25</th>\n",
       "      <th>V26</th>\n",
       "      <th>V27</th>\n",
       "      <th>V28</th>\n",
       "      <th>Amount</th>\n",
       "      <th>Class</th>\n",
       "    </tr>\n",
       "  </thead>\n",
       "  <tbody>\n",
       "    <tr>\n",
       "      <th>220580</th>\n",
       "      <td>142230.0</td>\n",
       "      <td>1.930823</td>\n",
       "      <td>-0.971130</td>\n",
       "      <td>-2.213172</td>\n",
       "      <td>-0.744840</td>\n",
       "      <td>-0.219678</td>\n",
       "      <td>-1.771505</td>\n",
       "      <td>0.571187</td>\n",
       "      <td>-0.729158</td>\n",
       "      <td>-1.106117</td>\n",
       "      <td>...</td>\n",
       "      <td>0.464303</td>\n",
       "      <td>0.988613</td>\n",
       "      <td>-0.232436</td>\n",
       "      <td>0.140205</td>\n",
       "      <td>0.407152</td>\n",
       "      <td>0.055761</td>\n",
       "      <td>-0.107820</td>\n",
       "      <td>-0.048335</td>\n",
       "      <td>190.94</td>\n",
       "      <td>0</td>\n",
       "    </tr>\n",
       "    <tr>\n",
       "      <th>120452</th>\n",
       "      <td>75834.0</td>\n",
       "      <td>1.164399</td>\n",
       "      <td>-0.174240</td>\n",
       "      <td>0.452775</td>\n",
       "      <td>1.171501</td>\n",
       "      <td>-0.005844</td>\n",
       "      <td>1.244785</td>\n",
       "      <td>-0.579895</td>\n",
       "      <td>0.447720</td>\n",
       "      <td>0.835146</td>\n",
       "      <td>...</td>\n",
       "      <td>-0.123256</td>\n",
       "      <td>-0.048402</td>\n",
       "      <td>-0.213236</td>\n",
       "      <td>-1.151799</td>\n",
       "      <td>0.708704</td>\n",
       "      <td>-0.199067</td>\n",
       "      <td>0.062363</td>\n",
       "      <td>-0.002151</td>\n",
       "      <td>4.49</td>\n",
       "      <td>0</td>\n",
       "    </tr>\n",
       "    <tr>\n",
       "      <th>125907</th>\n",
       "      <td>77859.0</td>\n",
       "      <td>1.092446</td>\n",
       "      <td>-2.008956</td>\n",
       "      <td>1.524474</td>\n",
       "      <td>-0.909020</td>\n",
       "      <td>-2.102153</td>\n",
       "      <td>1.542477</td>\n",
       "      <td>-2.057344</td>\n",
       "      <td>0.605613</td>\n",
       "      <td>-0.542989</td>\n",
       "      <td>...</td>\n",
       "      <td>-0.145932</td>\n",
       "      <td>0.286989</td>\n",
       "      <td>-0.037291</td>\n",
       "      <td>-0.250771</td>\n",
       "      <td>0.182865</td>\n",
       "      <td>-0.049268</td>\n",
       "      <td>0.124818</td>\n",
       "      <td>0.031190</td>\n",
       "      <td>104.45</td>\n",
       "      <td>0</td>\n",
       "    </tr>\n",
       "    <tr>\n",
       "      <th>39076</th>\n",
       "      <td>39682.0</td>\n",
       "      <td>1.009555</td>\n",
       "      <td>-0.322419</td>\n",
       "      <td>0.501951</td>\n",
       "      <td>1.033746</td>\n",
       "      <td>-0.317320</td>\n",
       "      <td>0.431012</td>\n",
       "      <td>-0.323396</td>\n",
       "      <td>0.054104</td>\n",
       "      <td>0.461689</td>\n",
       "      <td>...</td>\n",
       "      <td>0.101561</td>\n",
       "      <td>0.054401</td>\n",
       "      <td>-0.307052</td>\n",
       "      <td>-0.993344</td>\n",
       "      <td>0.495802</td>\n",
       "      <td>-0.291367</td>\n",
       "      <td>0.038254</td>\n",
       "      <td>0.051725</td>\n",
       "      <td>144.00</td>\n",
       "      <td>0</td>\n",
       "    </tr>\n",
       "    <tr>\n",
       "      <th>47832</th>\n",
       "      <td>43383.0</td>\n",
       "      <td>1.188452</td>\n",
       "      <td>0.569254</td>\n",
       "      <td>-0.355462</td>\n",
       "      <td>2.234741</td>\n",
       "      <td>0.830683</td>\n",
       "      <td>0.197342</td>\n",
       "      <td>0.511983</td>\n",
       "      <td>-0.089492</td>\n",
       "      <td>-0.993925</td>\n",
       "      <td>...</td>\n",
       "      <td>-0.030724</td>\n",
       "      <td>-0.146988</td>\n",
       "      <td>-0.224414</td>\n",
       "      <td>-0.884620</td>\n",
       "      <td>0.773706</td>\n",
       "      <td>0.154432</td>\n",
       "      <td>-0.031127</td>\n",
       "      <td>0.002831</td>\n",
       "      <td>37.27</td>\n",
       "      <td>0</td>\n",
       "    </tr>\n",
       "  </tbody>\n",
       "</table>\n",
       "<p>5 rows × 31 columns</p>\n",
       "</div>"
      ],
      "text/plain": [
       "            Time        V1        V2        V3        V4        V5        V6  \\\n",
       "220580  142230.0  1.930823 -0.971130 -2.213172 -0.744840 -0.219678 -1.771505   \n",
       "120452   75834.0  1.164399 -0.174240  0.452775  1.171501 -0.005844  1.244785   \n",
       "125907   77859.0  1.092446 -2.008956  1.524474 -0.909020 -2.102153  1.542477   \n",
       "39076    39682.0  1.009555 -0.322419  0.501951  1.033746 -0.317320  0.431012   \n",
       "47832    43383.0  1.188452  0.569254 -0.355462  2.234741  0.830683  0.197342   \n",
       "\n",
       "              V7        V8        V9  ...       V21       V22       V23  \\\n",
       "220580  0.571187 -0.729158 -1.106117  ...  0.464303  0.988613 -0.232436   \n",
       "120452 -0.579895  0.447720  0.835146  ... -0.123256 -0.048402 -0.213236   \n",
       "125907 -2.057344  0.605613 -0.542989  ... -0.145932  0.286989 -0.037291   \n",
       "39076  -0.323396  0.054104  0.461689  ...  0.101561  0.054401 -0.307052   \n",
       "47832   0.511983 -0.089492 -0.993925  ... -0.030724 -0.146988 -0.224414   \n",
       "\n",
       "             V24       V25       V26       V27       V28  Amount  Class  \n",
       "220580  0.140205  0.407152  0.055761 -0.107820 -0.048335  190.94      0  \n",
       "120452 -1.151799  0.708704 -0.199067  0.062363 -0.002151    4.49      0  \n",
       "125907 -0.250771  0.182865 -0.049268  0.124818  0.031190  104.45      0  \n",
       "39076  -0.993344  0.495802 -0.291367  0.038254  0.051725  144.00      0  \n",
       "47832  -0.884620  0.773706  0.154432 -0.031127  0.002831   37.27      0  \n",
       "\n",
       "[5 rows x 31 columns]"
      ]
     },
     "execution_count": 7,
     "metadata": {},
     "output_type": "execute_result"
    }
   ],
   "source": [
    "sample = df2.sample(1000)\n",
    "sample.head()"
   ]
  },
  {
   "cell_type": "markdown",
   "id": "412f326d",
   "metadata": {
    "heading_collapsed": true,
    "hidden": true
   },
   "source": [
    "#### 2.2.2.1. AMOUNT OF TRANSACTION"
   ]
  },
  {
   "cell_type": "code",
   "execution_count": 8,
   "id": "49c78d24",
   "metadata": {
    "hidden": true
   },
   "outputs": [
    {
     "data": {
      "text/plain": [
       "Class\n",
       "0     88.291022\n",
       "1    122.211321\n",
       "Name: Amount, dtype: float64"
      ]
     },
     "execution_count": 8,
     "metadata": {},
     "output_type": "execute_result"
    }
   ],
   "source": [
    "df2.groupby('Class').mean()['Amount']"
   ]
  },
  {
   "cell_type": "code",
   "execution_count": 9,
   "id": "0043b96e",
   "metadata": {
    "hidden": true
   },
   "outputs": [
    {
     "name": "stderr",
     "output_type": "stream",
     "text": [
      "/opt/anaconda3/lib/python3.9/site-packages/pandas/core/arraylike.py:397: RuntimeWarning: divide by zero encountered in log\n",
      "  result = getattr(ufunc, method)(*inputs, **kwargs)\n",
      "/opt/anaconda3/lib/python3.9/site-packages/pandas/core/arraylike.py:397: RuntimeWarning: divide by zero encountered in log\n",
      "  result = getattr(ufunc, method)(*inputs, **kwargs)\n"
     ]
    },
    {
     "data": {
      "image/png": "[encoded data removed]",
      "text/plain": [
       "<Figure size 1584x720 with 2 Axes>"
      ]
     },
     "metadata": {
      "needs_background": "light"
     },
     "output_type": "display_data"
    }
   ],
   "source": [
    "fig = plt.figure(figsize = (22,10))\n",
    "plt.subplot(1, 2, 1)\n",
    "ax1 = sns.histplot(data = np.log(df2[df2['Class'] == 0]['Amount']), bins = 20)\n",
    "ax1.set_title('Logaritmic distribution of transaction amount on non-fraudulent transactions')\n",
    "plt.subplot(1, 2, 2)\n",
    "ax2 = sns.histplot(data = np.log(df2[df2['Class'] == 1]['Amount']), bins = 20)\n",
    "ax2.set_title('Logaritmic distribution of transaction amount on fraudulent transactions');"
   ]
  },
  {
   "cell_type": "markdown",
   "id": "2e7041ae",
   "metadata": {
    "heading_collapsed": true,
    "hidden": true
   },
   "source": [
    "#### 2.2.2.2. TIME OF TRANSACTION"
   ]
  },
  {
   "cell_type": "code",
   "execution_count": 10,
   "id": "1709e758",
   "metadata": {
    "hidden": true
   },
   "outputs": [
    {
     "data": {
      "image/png": "[encoded data removed]",
      "text/plain": [
       "<Figure size 1584x720 with 2 Axes>"
      ]
     },
     "metadata": {
      "needs_background": "light"
     },
     "output_type": "display_data"
    }
   ],
   "source": [
    "fig = plt.figure(figsize = (22,10))\n",
    "plt.subplot(1, 2, 1)\n",
    "ax1 = sns.histplot(data = df2[df2['Class'] == 0]['Time'], bins = 20)\n",
    "ax1.set_title('Logaritmic distribution of transaction amount on non-fraudulent transactions')\n",
    "plt.subplot(1, 2, 2)\n",
    "ax2 = sns.histplot(data = df2[df2['Class'] == 1]['Time'], bins = 20)\n",
    "ax2.set_title('Logaritmic distribution of transaction amount on fraudulent transactions');"
   ]
  },
  {
   "cell_type": "code",
   "execution_count": 11,
   "id": "91ccfea6",
   "metadata": {
    "hidden": true
   },
   "outputs": [
    {
     "data": {
      "text/plain": [
       "<AxesSubplot:>"
      ]
     },
     "execution_count": 11,
     "metadata": {},
     "output_type": "execute_result"
    },
    {
     "data": {
      "image/png": "[encoded data removed]",
      "text/plain": [
       "<Figure size 1440x1080 with 2 Axes>"
      ]
     },
     "metadata": {
      "needs_background": "light"
     },
     "output_type": "display_data"
    }
   ],
   "source": [
    "plt.figure(figsize = (20, 15))\n",
    "sns.heatmap(data = df2.corr().round(2), annot = True, cmap = 'viridis')"
   ]
  },
  {
   "cell_type": "markdown",
   "id": "064f68ff",
   "metadata": {
    "heading_collapsed": true
   },
   "source": [
    "## 3. FEATURE ENGINEERING AND SELECTION"
   ]
  },
  {
   "cell_type": "code",
   "execution_count": 12,
   "id": "41567099",
   "metadata": {
    "hidden": true
   },
   "outputs": [],
   "source": [
    "df3 = df2.copy()"
   ]
  },
  {
   "cell_type": "markdown",
   "id": "88052dea",
   "metadata": {
    "heading_collapsed": true,
    "hidden": true
   },
   "source": [
    "### 3.1. FEATURE ENGINEERING"
   ]
  },
  {
   "cell_type": "markdown",
   "id": "3af9f920",
   "metadata": {
    "heading_collapsed": true,
    "hidden": true
   },
   "source": [
    "### 3.2. FEATURE SELECTION"
   ]
  },
  {
   "cell_type": "code",
   "execution_count": 26,
   "id": "1c4a91a6",
   "metadata": {
    "hidden": true
   },
   "outputs": [],
   "source": [
    "df3 = df3.drop(['Amount', 'Time'], axis = 1)"
   ]
  },
  {
   "cell_type": "markdown",
   "id": "3e183f82",
   "metadata": {},
   "source": [
    "## 4. MODELING"
   ]
  },
  {
   "cell_type": "code",
   "execution_count": 29,
   "id": "331a5c65",
   "metadata": {},
   "outputs": [],
   "source": [
    "df4 = df3.copy()"
   ]
  },
  {
   "cell_type": "code",
   "execution_count": 30,
   "id": "37b6e7ef",
   "metadata": {},
   "outputs": [],
   "source": [
    "X = df4.drop(['Class'], axis = 1)\n",
    "y = df4['Class']"
   ]
  },
  {
   "cell_type": "markdown",
   "id": "bedd04dc",
   "metadata": {},
   "source": [
    "1. Test regular train test split, with 10% of test cases on test set\n",
    "2. Test regular train test split, with 20% of test cases on test set\n",
    "3. Gather all positive examples on the test set"
   ]
  },
  {
   "cell_type": "code",
   "execution_count": 31,
   "id": "d766451b",
   "metadata": {},
   "outputs": [],
   "source": [
    "X_train, X_test, y_train, y_test = train_test_split(X, y, test_size=0.1, random_state=42)"
   ]
  },
  {
   "cell_type": "markdown",
   "id": "126f70c8",
   "metadata": {},
   "source": [
    "### 4.1. CREATING BASELINE"
   ]
  },
  {
   "cell_type": "markdown",
   "id": "4c41b386",
   "metadata": {},
   "source": [
    "Here, two models were tested (one linear and one non-linear) and the one which performed best (Random Forest) was chosen to be the baseline."
   ]
  },
  {
   "cell_type": "markdown",
   "id": "b38ac1b7",
   "metadata": {
    "heading_collapsed": true
   },
   "source": [
    "#### 4.1.1. LOGISTIC REGRESSION"
   ]
  },
  {
   "cell_type": "code",
   "execution_count": 33,
   "id": "fea353e3",
   "metadata": {
    "hidden": true
   },
   "outputs": [],
   "source": [
    "lr = LogisticRegression()\n",
    "lr.fit(X_train, y_train);"
   ]
  },
  {
   "cell_type": "code",
   "execution_count": 53,
   "id": "3a2b1712",
   "metadata": {
    "hidden": true
   },
   "outputs": [
    {
     "name": "stdout",
     "output_type": "stream",
     "text": [
      "[[28429     6]\n",
      " [   17    29]]\n",
      "\n",
      "\n",
      "              precision    recall  f1-score   support\n",
      "\n",
      "           0       1.00      1.00      1.00     28435\n",
      "           1       0.83      0.63      0.72        46\n",
      "\n",
      "    accuracy                           1.00     28481\n",
      "   macro avg       0.91      0.82      0.86     28481\n",
      "weighted avg       1.00      1.00      1.00     28481\n",
      "\n"
     ]
    }
   ],
   "source": [
    "predictions = lr.predict(X_test)\n",
    "\n",
    "print(confusion_matrix(y_test, predictions))\n",
    "print('\\n')\n",
    "print(classification_report(y_test, predictions))"
   ]
  },
  {
   "cell_type": "markdown",
   "id": "43d17f0b",
   "metadata": {},
   "source": [
    "#### 4.1.2. RANDOM FOREST"
   ]
  },
  {
   "cell_type": "code",
   "execution_count": 154,
   "id": "70348ee6",
   "metadata": {},
   "outputs": [],
   "source": [
    "rf = RandomForestClassifier(n_estimators=10, verbose = 0, random_state=101)\n",
    "rf.fit(X_train, y_train);"
   ]
  },
  {
   "cell_type": "code",
   "execution_count": 155,
   "id": "ab53b14e",
   "metadata": {},
   "outputs": [
    {
     "name": "stdout",
     "output_type": "stream",
     "text": [
      "[[28435     0]\n",
      " [   11    35]]\n",
      "\n",
      "\n",
      "              precision    recall  f1-score   support\n",
      "\n",
      "           0       1.00      1.00      1.00     28435\n",
      "           1       1.00      0.76      0.86        46\n",
      "\n",
      "    accuracy                           1.00     28481\n",
      "   macro avg       1.00      0.88      0.93     28481\n",
      "weighted avg       1.00      1.00      1.00     28481\n",
      "\n"
     ]
    }
   ],
   "source": [
    "predictions = rf.predict(X_test)\n",
    "\n",
    "print(confusion_matrix(y_test, predictions))\n",
    "print('\\n')\n",
    "print(classification_report(y_test, predictions))"
   ]
  },
  {
   "cell_type": "code",
   "execution_count": 156,
   "id": "cbb4ffda",
   "metadata": {},
   "outputs": [
    {
     "data": {
      "text/html": [
       "<div>\n",
       "<style scoped>\n",
       "    .dataframe tbody tr th:only-of-type {\n",
       "        vertical-align: middle;\n",
       "    }\n",
       "\n",
       "    .dataframe tbody tr th {\n",
       "        vertical-align: top;\n",
       "    }\n",
       "\n",
       "    .dataframe thead th {\n",
       "        text-align: right;\n",
       "    }\n",
       "</style>\n",
       "<table border=\"1\" class=\"dataframe\">\n",
       "  <thead>\n",
       "    <tr style=\"text-align: right;\">\n",
       "      <th></th>\n",
       "      <th>True_Positives</th>\n",
       "      <th>False_Positives</th>\n",
       "      <th>True_Negatives</th>\n",
       "      <th>False_Negatives</th>\n",
       "    </tr>\n",
       "  </thead>\n",
       "  <tbody>\n",
       "    <tr>\n",
       "      <th>Baseline - Random Forest</th>\n",
       "      <td>28435</td>\n",
       "      <td>0</td>\n",
       "      <td>11</td>\n",
       "      <td>35</td>\n",
       "    </tr>\n",
       "  </tbody>\n",
       "</table>\n",
       "</div>"
      ],
      "text/plain": [
       "                          True_Positives  False_Positives  True_Negatives  \\\n",
       "Baseline - Random Forest           28435                0              11   \n",
       "\n",
       "                          False_Negatives  \n",
       "Baseline - Random Forest               35  "
      ]
     },
     "metadata": {},
     "output_type": "display_data"
    }
   ],
   "source": [
    "matrix = confusion_matrix(y_test, predictions)\n",
    "response = dict(True_Positives = matrix[0][0],\n",
    "               False_Positives = matrix[0][1],\n",
    "               True_Negatives = matrix[1][0],\n",
    "               False_Negatives = matrix[1][1])\n",
    "baseline_matrix = pd.DataFrame(response, index = ['Baseline - Random Forest'])\n",
    "display(baseline_matrix)"
   ]
  },
  {
   "cell_type": "markdown",
   "id": "536b373b",
   "metadata": {},
   "source": [
    "### 4.2. BALANCING DATASET"
   ]
  },
  {
   "cell_type": "markdown",
   "id": "6aff2ea5",
   "metadata": {},
   "source": [
    "#### 4.2.1. OVER SAMPLING"
   ]
  },
  {
   "cell_type": "code",
   "execution_count": 157,
   "id": "6aa9f0ad",
   "metadata": {
    "scrolled": false
   },
   "outputs": [
    {
     "data": {
      "text/html": [
       "<style>#sk-container-id-26 {color: black;background-color: white;}#sk-container-id-26 pre{padding: 0;}#sk-container-id-26 div.sk-toggleable {background-color: white;}#sk-container-id-26 label.sk-toggleable__label {cursor: pointer;display: block;width: 100%;margin-bottom: 0;padding: 0.3em;box-sizing: border-box;text-align: center;}#sk-container-id-26 label.sk-toggleable__label-arrow:before {content: \"▸\";float: left;margin-right: 0.25em;color: #696969;}#sk-container-id-26 label.sk-toggleable__label-arrow:hover:before {color: black;}#sk-container-id-26 div.sk-estimator:hover label.sk-toggleable__label-arrow:before {color: black;}#sk-container-id-26 div.sk-toggleable__content {max-height: 0;max-width: 0;overflow: hidden;text-align: left;background-color: #f0f8ff;}#sk-container-id-26 div.sk-toggleable__content pre {margin: 0.2em;color: black;border-radius: 0.25em;background-color: #f0f8ff;}#sk-container-id-26 input.sk-toggleable__control:checked~div.sk-toggleable__content {max-height: 200px;max-width: 100%;overflow: auto;}#sk-container-id-26 input.sk-toggleable__control:checked~label.sk-toggleable__label-arrow:before {content: \"▾\";}#sk-container-id-26 div.sk-estimator input.sk-toggleable__control:checked~label.sk-toggleable__label {background-color: #d4ebff;}#sk-container-id-26 div.sk-label input.sk-toggleable__control:checked~label.sk-toggleable__label {background-color: #d4ebff;}#sk-container-id-26 input.sk-hidden--visually {border: 0;clip: rect(1px 1px 1px 1px);clip: rect(1px, 1px, 1px, 1px);height: 1px;margin: -1px;overflow: hidden;padding: 0;position: absolute;width: 1px;}#sk-container-id-26 div.sk-estimator {font-family: monospace;background-color: #f0f8ff;border: 1px dotted black;border-radius: 0.25em;box-sizing: border-box;margin-bottom: 0.5em;}#sk-container-id-26 div.sk-estimator:hover {background-color: #d4ebff;}#sk-container-id-26 div.sk-parallel-item::after {content: \"\";width: 100%;border-bottom: 1px solid gray;flex-grow: 1;}#sk-container-id-26 div.sk-label:hover label.sk-toggleable__label {background-color: #d4ebff;}#sk-container-id-26 div.sk-serial::before {content: \"\";position: absolute;border-left: 1px solid gray;box-sizing: border-box;top: 0;bottom: 0;left: 50%;z-index: 0;}#sk-container-id-26 div.sk-serial {display: flex;flex-direction: column;align-items: center;background-color: white;padding-right: 0.2em;padding-left: 0.2em;position: relative;}#sk-container-id-26 div.sk-item {position: relative;z-index: 1;}#sk-container-id-26 div.sk-parallel {display: flex;align-items: stretch;justify-content: center;background-color: white;position: relative;}#sk-container-id-26 div.sk-item::before, #sk-container-id-26 div.sk-parallel-item::before {content: \"\";position: absolute;border-left: 1px solid gray;box-sizing: border-box;top: 0;bottom: 0;left: 50%;z-index: -1;}#sk-container-id-26 div.sk-parallel-item {display: flex;flex-direction: column;z-index: 1;position: relative;background-color: white;}#sk-container-id-26 div.sk-parallel-item:first-child::after {align-self: flex-end;width: 50%;}#sk-container-id-26 div.sk-parallel-item:last-child::after {align-self: flex-start;width: 50%;}#sk-container-id-26 div.sk-parallel-item:only-child::after {width: 0;}#sk-container-id-26 div.sk-dashed-wrapped {border: 1px dashed gray;margin: 0 0.4em 0.5em 0.4em;box-sizing: border-box;padding-bottom: 0.4em;background-color: white;}#sk-container-id-26 div.sk-label label {font-family: monospace;font-weight: bold;display: inline-block;line-height: 1.2em;}#sk-container-id-26 div.sk-label-container {text-align: center;}#sk-container-id-26 div.sk-container {/* jupyter's `normalize.less` sets `[hidden] { display: none; }` but bootstrap.min.css set `[hidden] { display: none !important; }` so we also need the `!important` here to be able to override the default hidden behavior on the sphinx rendered scikit-learn.org. See: https://github.com/scikit-learn/scikit-learn/issues/21755 */display: inline-block !important;position: relative;}#sk-container-id-26 div.sk-text-repr-fallback {display: none;}</style><div id=\"sk-container-id-26\" class=\"sk-top-container\"><div class=\"sk-text-repr-fallback\"><pre>Pipeline(steps=[(&#x27;Random Over Sampler&#x27;, RandomOverSampler(random_state=101)),\n",
       "                (&#x27;Random Forest Classifier&#x27;,\n",
       "                 RandomForestClassifier(n_estimators=10, random_state=101))])</pre><b>In a Jupyter environment, please rerun this cell to show the HTML representation or trust the notebook. <br />On GitHub, the HTML representation is unable to render, please try loading this page with nbviewer.org.</b></div><div class=\"sk-container\" hidden><div class=\"sk-item sk-dashed-wrapped\"><div class=\"sk-label-container\"><div class=\"sk-label sk-toggleable\"><input class=\"sk-toggleable__control sk-hidden--visually\" id=\"sk-estimator-id-74\" type=\"checkbox\" ><label for=\"sk-estimator-id-74\" class=\"sk-toggleable__label sk-toggleable__label-arrow\">Pipeline</label><div class=\"sk-toggleable__content\"><pre>Pipeline(steps=[(&#x27;Random Over Sampler&#x27;, RandomOverSampler(random_state=101)),\n",
       "                (&#x27;Random Forest Classifier&#x27;,\n",
       "                 RandomForestClassifier(n_estimators=10, random_state=101))])</pre></div></div></div><div class=\"sk-serial\"><div class=\"sk-item\"><div class=\"sk-estimator sk-toggleable\"><input class=\"sk-toggleable__control sk-hidden--visually\" id=\"sk-estimator-id-75\" type=\"checkbox\" ><label for=\"sk-estimator-id-75\" class=\"sk-toggleable__label sk-toggleable__label-arrow\">RandomOverSampler</label><div class=\"sk-toggleable__content\"><pre>RandomOverSampler(random_state=101)</pre></div></div></div><div class=\"sk-item\"><div class=\"sk-estimator sk-toggleable\"><input class=\"sk-toggleable__control sk-hidden--visually\" id=\"sk-estimator-id-76\" type=\"checkbox\" ><label for=\"sk-estimator-id-76\" class=\"sk-toggleable__label sk-toggleable__label-arrow\">RandomForestClassifier</label><div class=\"sk-toggleable__content\"><pre>RandomForestClassifier(n_estimators=10, random_state=101)</pre></div></div></div></div></div></div></div>"
      ],
      "text/plain": [
       "Pipeline(steps=[('Random Over Sampler', RandomOverSampler(random_state=101)),\n",
       "                ('Random Forest Classifier',\n",
       "                 RandomForestClassifier(n_estimators=10, random_state=101))])"
      ]
     },
     "metadata": {},
     "output_type": "display_data"
    }
   ],
   "source": [
    "pipe_ros = Pipeline([\n",
    "    ('Random Over Sampler', RandomOverSampler(random_state=101)),\n",
    "    ('Random Forest Classifier', rf)\n",
    "])\n",
    "display(pipe_ros)"
   ]
  },
  {
   "cell_type": "code",
   "execution_count": 158,
   "id": "bd502c1d",
   "metadata": {
    "scrolled": true
   },
   "outputs": [
    {
     "data": {
      "text/html": [
       "<div>\n",
       "<style scoped>\n",
       "    .dataframe tbody tr th:only-of-type {\n",
       "        vertical-align: middle;\n",
       "    }\n",
       "\n",
       "    .dataframe tbody tr th {\n",
       "        vertical-align: top;\n",
       "    }\n",
       "\n",
       "    .dataframe thead th {\n",
       "        text-align: right;\n",
       "    }\n",
       "</style>\n",
       "<table border=\"1\" class=\"dataframe\">\n",
       "  <thead>\n",
       "    <tr style=\"text-align: right;\">\n",
       "      <th></th>\n",
       "      <th>True_Positives</th>\n",
       "      <th>False_Positives</th>\n",
       "      <th>True_Negatives</th>\n",
       "      <th>False_Negatives</th>\n",
       "    </tr>\n",
       "  </thead>\n",
       "  <tbody>\n",
       "    <tr>\n",
       "      <th>Random Over Sampler</th>\n",
       "      <td>28433</td>\n",
       "      <td>2</td>\n",
       "      <td>11</td>\n",
       "      <td>35</td>\n",
       "    </tr>\n",
       "  </tbody>\n",
       "</table>\n",
       "</div>"
      ],
      "text/plain": [
       "                     True_Positives  False_Positives  True_Negatives  \\\n",
       "Random Over Sampler           28433                2              11   \n",
       "\n",
       "                     False_Negatives  \n",
       "Random Over Sampler               35  "
      ]
     },
     "metadata": {},
     "output_type": "display_data"
    }
   ],
   "source": [
    "pipe_ros.fit(X_train, y_train)\n",
    "ros_matrix = confusion_matrix_dataframe(pipe_ros, X_test, y_test)\n",
    "display(ros_matrix)"
   ]
  },
  {
   "cell_type": "markdown",
   "id": "081c06e8",
   "metadata": {},
   "source": [
    "#### 4.2.2. SMOTE"
   ]
  },
  {
   "cell_type": "code",
   "execution_count": 159,
   "id": "95835742",
   "metadata": {
    "scrolled": false
   },
   "outputs": [
    {
     "data": {
      "text/html": [
       "<style>#sk-container-id-27 {color: black;background-color: white;}#sk-container-id-27 pre{padding: 0;}#sk-container-id-27 div.sk-toggleable {background-color: white;}#sk-container-id-27 label.sk-toggleable__label {cursor: pointer;display: block;width: 100%;margin-bottom: 0;padding: 0.3em;box-sizing: border-box;text-align: center;}#sk-container-id-27 label.sk-toggleable__label-arrow:before {content: \"▸\";float: left;margin-right: 0.25em;color: #696969;}#sk-container-id-27 label.sk-toggleable__label-arrow:hover:before {color: black;}#sk-container-id-27 div.sk-estimator:hover label.sk-toggleable__label-arrow:before {color: black;}#sk-container-id-27 div.sk-toggleable__content {max-height: 0;max-width: 0;overflow: hidden;text-align: left;background-color: #f0f8ff;}#sk-container-id-27 div.sk-toggleable__content pre {margin: 0.2em;color: black;border-radius: 0.25em;background-color: #f0f8ff;}#sk-container-id-27 input.sk-toggleable__control:checked~div.sk-toggleable__content {max-height: 200px;max-width: 100%;overflow: auto;}#sk-container-id-27 input.sk-toggleable__control:checked~label.sk-toggleable__label-arrow:before {content: \"▾\";}#sk-container-id-27 div.sk-estimator input.sk-toggleable__control:checked~label.sk-toggleable__label {background-color: #d4ebff;}#sk-container-id-27 div.sk-label input.sk-toggleable__control:checked~label.sk-toggleable__label {background-color: #d4ebff;}#sk-container-id-27 input.sk-hidden--visually {border: 0;clip: rect(1px 1px 1px 1px);clip: rect(1px, 1px, 1px, 1px);height: 1px;margin: -1px;overflow: hidden;padding: 0;position: absolute;width: 1px;}#sk-container-id-27 div.sk-estimator {font-family: monospace;background-color: #f0f8ff;border: 1px dotted black;border-radius: 0.25em;box-sizing: border-box;margin-bottom: 0.5em;}#sk-container-id-27 div.sk-estimator:hover {background-color: #d4ebff;}#sk-container-id-27 div.sk-parallel-item::after {content: \"\";width: 100%;border-bottom: 1px solid gray;flex-grow: 1;}#sk-container-id-27 div.sk-label:hover label.sk-toggleable__label {background-color: #d4ebff;}#sk-container-id-27 div.sk-serial::before {content: \"\";position: absolute;border-left: 1px solid gray;box-sizing: border-box;top: 0;bottom: 0;left: 50%;z-index: 0;}#sk-container-id-27 div.sk-serial {display: flex;flex-direction: column;align-items: center;background-color: white;padding-right: 0.2em;padding-left: 0.2em;position: relative;}#sk-container-id-27 div.sk-item {position: relative;z-index: 1;}#sk-container-id-27 div.sk-parallel {display: flex;align-items: stretch;justify-content: center;background-color: white;position: relative;}#sk-container-id-27 div.sk-item::before, #sk-container-id-27 div.sk-parallel-item::before {content: \"\";position: absolute;border-left: 1px solid gray;box-sizing: border-box;top: 0;bottom: 0;left: 50%;z-index: -1;}#sk-container-id-27 div.sk-parallel-item {display: flex;flex-direction: column;z-index: 1;position: relative;background-color: white;}#sk-container-id-27 div.sk-parallel-item:first-child::after {align-self: flex-end;width: 50%;}#sk-container-id-27 div.sk-parallel-item:last-child::after {align-self: flex-start;width: 50%;}#sk-container-id-27 div.sk-parallel-item:only-child::after {width: 0;}#sk-container-id-27 div.sk-dashed-wrapped {border: 1px dashed gray;margin: 0 0.4em 0.5em 0.4em;box-sizing: border-box;padding-bottom: 0.4em;background-color: white;}#sk-container-id-27 div.sk-label label {font-family: monospace;font-weight: bold;display: inline-block;line-height: 1.2em;}#sk-container-id-27 div.sk-label-container {text-align: center;}#sk-container-id-27 div.sk-container {/* jupyter's `normalize.less` sets `[hidden] { display: none; }` but bootstrap.min.css set `[hidden] { display: none !important; }` so we also need the `!important` here to be able to override the default hidden behavior on the sphinx rendered scikit-learn.org. See: https://github.com/scikit-learn/scikit-learn/issues/21755 */display: inline-block !important;position: relative;}#sk-container-id-27 div.sk-text-repr-fallback {display: none;}</style><div id=\"sk-container-id-27\" class=\"sk-top-container\"><div class=\"sk-text-repr-fallback\"><pre>Pipeline(steps=[(&#x27;SMOTE&#x27;, SMOTE(random_state=101)),\n",
       "                (&#x27;Random Forest Classifier&#x27;,\n",
       "                 RandomForestClassifier(n_estimators=10, random_state=101))])</pre><b>In a Jupyter environment, please rerun this cell to show the HTML representation or trust the notebook. <br />On GitHub, the HTML representation is unable to render, please try loading this page with nbviewer.org.</b></div><div class=\"sk-container\" hidden><div class=\"sk-item sk-dashed-wrapped\"><div class=\"sk-label-container\"><div class=\"sk-label sk-toggleable\"><input class=\"sk-toggleable__control sk-hidden--visually\" id=\"sk-estimator-id-77\" type=\"checkbox\" ><label for=\"sk-estimator-id-77\" class=\"sk-toggleable__label sk-toggleable__label-arrow\">Pipeline</label><div class=\"sk-toggleable__content\"><pre>Pipeline(steps=[(&#x27;SMOTE&#x27;, SMOTE(random_state=101)),\n",
       "                (&#x27;Random Forest Classifier&#x27;,\n",
       "                 RandomForestClassifier(n_estimators=10, random_state=101))])</pre></div></div></div><div class=\"sk-serial\"><div class=\"sk-item\"><div class=\"sk-estimator sk-toggleable\"><input class=\"sk-toggleable__control sk-hidden--visually\" id=\"sk-estimator-id-78\" type=\"checkbox\" ><label for=\"sk-estimator-id-78\" class=\"sk-toggleable__label sk-toggleable__label-arrow\">SMOTE</label><div class=\"sk-toggleable__content\"><pre>SMOTE(random_state=101)</pre></div></div></div><div class=\"sk-item\"><div class=\"sk-estimator sk-toggleable\"><input class=\"sk-toggleable__control sk-hidden--visually\" id=\"sk-estimator-id-79\" type=\"checkbox\" ><label for=\"sk-estimator-id-79\" class=\"sk-toggleable__label sk-toggleable__label-arrow\">RandomForestClassifier</label><div class=\"sk-toggleable__content\"><pre>RandomForestClassifier(n_estimators=10, random_state=101)</pre></div></div></div></div></div></div></div>"
      ],
      "text/plain": [
       "Pipeline(steps=[('SMOTE', SMOTE(random_state=101)),\n",
       "                ('Random Forest Classifier',\n",
       "                 RandomForestClassifier(n_estimators=10, random_state=101))])"
      ]
     },
     "metadata": {},
     "output_type": "display_data"
    }
   ],
   "source": [
    "pipe_smote = Pipeline([\n",
    "    ('SMOTE', SMOTE(random_state=101)),\n",
    "    ('Random Forest Classifier', rf)\n",
    "])\n",
    "display(pipe_smote)"
   ]
  },
  {
   "cell_type": "code",
   "execution_count": 160,
   "id": "5fa93c8b",
   "metadata": {
    "scrolled": true
   },
   "outputs": [
    {
     "data": {
      "text/html": [
       "<div>\n",
       "<style scoped>\n",
       "    .dataframe tbody tr th:only-of-type {\n",
       "        vertical-align: middle;\n",
       "    }\n",
       "\n",
       "    .dataframe tbody tr th {\n",
       "        vertical-align: top;\n",
       "    }\n",
       "\n",
       "    .dataframe thead th {\n",
       "        text-align: right;\n",
       "    }\n",
       "</style>\n",
       "<table border=\"1\" class=\"dataframe\">\n",
       "  <thead>\n",
       "    <tr style=\"text-align: right;\">\n",
       "      <th></th>\n",
       "      <th>True_Positives</th>\n",
       "      <th>False_Positives</th>\n",
       "      <th>True_Negatives</th>\n",
       "      <th>False_Negatives</th>\n",
       "    </tr>\n",
       "  </thead>\n",
       "  <tbody>\n",
       "    <tr>\n",
       "      <th>SMOTE</th>\n",
       "      <td>28431</td>\n",
       "      <td>4</td>\n",
       "      <td>10</td>\n",
       "      <td>36</td>\n",
       "    </tr>\n",
       "  </tbody>\n",
       "</table>\n",
       "</div>"
      ],
      "text/plain": [
       "       True_Positives  False_Positives  True_Negatives  False_Negatives\n",
       "SMOTE           28431                4              10               36"
      ]
     },
     "metadata": {},
     "output_type": "display_data"
    }
   ],
   "source": [
    "pipe_smote.fit(X_train, y_train)\n",
    "smote_matrix = confusion_matrix_dataframe(pipe_smote, X_test, y_test)\n",
    "display(smote_matrix)"
   ]
  },
  {
   "cell_type": "markdown",
   "id": "b69add58",
   "metadata": {},
   "source": [
    "#### 4.2.3. UNDER SAMPLING"
   ]
  },
  {
   "cell_type": "code",
   "execution_count": 161,
   "id": "604e8a4f",
   "metadata": {
    "scrolled": false
   },
   "outputs": [
    {
     "data": {
      "text/html": [
       "<style>#sk-container-id-28 {color: black;background-color: white;}#sk-container-id-28 pre{padding: 0;}#sk-container-id-28 div.sk-toggleable {background-color: white;}#sk-container-id-28 label.sk-toggleable__label {cursor: pointer;display: block;width: 100%;margin-bottom: 0;padding: 0.3em;box-sizing: border-box;text-align: center;}#sk-container-id-28 label.sk-toggleable__label-arrow:before {content: \"▸\";float: left;margin-right: 0.25em;color: #696969;}#sk-container-id-28 label.sk-toggleable__label-arrow:hover:before {color: black;}#sk-container-id-28 div.sk-estimator:hover label.sk-toggleable__label-arrow:before {color: black;}#sk-container-id-28 div.sk-toggleable__content {max-height: 0;max-width: 0;overflow: hidden;text-align: left;background-color: #f0f8ff;}#sk-container-id-28 div.sk-toggleable__content pre {margin: 0.2em;color: black;border-radius: 0.25em;background-color: #f0f8ff;}#sk-container-id-28 input.sk-toggleable__control:checked~div.sk-toggleable__content {max-height: 200px;max-width: 100%;overflow: auto;}#sk-container-id-28 input.sk-toggleable__control:checked~label.sk-toggleable__label-arrow:before {content: \"▾\";}#sk-container-id-28 div.sk-estimator input.sk-toggleable__control:checked~label.sk-toggleable__label {background-color: #d4ebff;}#sk-container-id-28 div.sk-label input.sk-toggleable__control:checked~label.sk-toggleable__label {background-color: #d4ebff;}#sk-container-id-28 input.sk-hidden--visually {border: 0;clip: rect(1px 1px 1px 1px);clip: rect(1px, 1px, 1px, 1px);height: 1px;margin: -1px;overflow: hidden;padding: 0;position: absolute;width: 1px;}#sk-container-id-28 div.sk-estimator {font-family: monospace;background-color: #f0f8ff;border: 1px dotted black;border-radius: 0.25em;box-sizing: border-box;margin-bottom: 0.5em;}#sk-container-id-28 div.sk-estimator:hover {background-color: #d4ebff;}#sk-container-id-28 div.sk-parallel-item::after {content: \"\";width: 100%;border-bottom: 1px solid gray;flex-grow: 1;}#sk-container-id-28 div.sk-label:hover label.sk-toggleable__label {background-color: #d4ebff;}#sk-container-id-28 div.sk-serial::before {content: \"\";position: absolute;border-left: 1px solid gray;box-sizing: border-box;top: 0;bottom: 0;left: 50%;z-index: 0;}#sk-container-id-28 div.sk-serial {display: flex;flex-direction: column;align-items: center;background-color: white;padding-right: 0.2em;padding-left: 0.2em;position: relative;}#sk-container-id-28 div.sk-item {position: relative;z-index: 1;}#sk-container-id-28 div.sk-parallel {display: flex;align-items: stretch;justify-content: center;background-color: white;position: relative;}#sk-container-id-28 div.sk-item::before, #sk-container-id-28 div.sk-parallel-item::before {content: \"\";position: absolute;border-left: 1px solid gray;box-sizing: border-box;top: 0;bottom: 0;left: 50%;z-index: -1;}#sk-container-id-28 div.sk-parallel-item {display: flex;flex-direction: column;z-index: 1;position: relative;background-color: white;}#sk-container-id-28 div.sk-parallel-item:first-child::after {align-self: flex-end;width: 50%;}#sk-container-id-28 div.sk-parallel-item:last-child::after {align-self: flex-start;width: 50%;}#sk-container-id-28 div.sk-parallel-item:only-child::after {width: 0;}#sk-container-id-28 div.sk-dashed-wrapped {border: 1px dashed gray;margin: 0 0.4em 0.5em 0.4em;box-sizing: border-box;padding-bottom: 0.4em;background-color: white;}#sk-container-id-28 div.sk-label label {font-family: monospace;font-weight: bold;display: inline-block;line-height: 1.2em;}#sk-container-id-28 div.sk-label-container {text-align: center;}#sk-container-id-28 div.sk-container {/* jupyter's `normalize.less` sets `[hidden] { display: none; }` but bootstrap.min.css set `[hidden] { display: none !important; }` so we also need the `!important` here to be able to override the default hidden behavior on the sphinx rendered scikit-learn.org. See: https://github.com/scikit-learn/scikit-learn/issues/21755 */display: inline-block !important;position: relative;}#sk-container-id-28 div.sk-text-repr-fallback {display: none;}</style><div id=\"sk-container-id-28\" class=\"sk-top-container\"><div class=\"sk-text-repr-fallback\"><pre>Pipeline(steps=[(&#x27;Random Under Sampler&#x27;, RandomUnderSampler(random_state=101)),\n",
       "                (&#x27;Random Forest Classifier&#x27;,\n",
       "                 RandomForestClassifier(n_estimators=10, random_state=101))])</pre><b>In a Jupyter environment, please rerun this cell to show the HTML representation or trust the notebook. <br />On GitHub, the HTML representation is unable to render, please try loading this page with nbviewer.org.</b></div><div class=\"sk-container\" hidden><div class=\"sk-item sk-dashed-wrapped\"><div class=\"sk-label-container\"><div class=\"sk-label sk-toggleable\"><input class=\"sk-toggleable__control sk-hidden--visually\" id=\"sk-estimator-id-80\" type=\"checkbox\" ><label for=\"sk-estimator-id-80\" class=\"sk-toggleable__label sk-toggleable__label-arrow\">Pipeline</label><div class=\"sk-toggleable__content\"><pre>Pipeline(steps=[(&#x27;Random Under Sampler&#x27;, RandomUnderSampler(random_state=101)),\n",
       "                (&#x27;Random Forest Classifier&#x27;,\n",
       "                 RandomForestClassifier(n_estimators=10, random_state=101))])</pre></div></div></div><div class=\"sk-serial\"><div class=\"sk-item\"><div class=\"sk-estimator sk-toggleable\"><input class=\"sk-toggleable__control sk-hidden--visually\" id=\"sk-estimator-id-81\" type=\"checkbox\" ><label for=\"sk-estimator-id-81\" class=\"sk-toggleable__label sk-toggleable__label-arrow\">RandomUnderSampler</label><div class=\"sk-toggleable__content\"><pre>RandomUnderSampler(random_state=101)</pre></div></div></div><div class=\"sk-item\"><div class=\"sk-estimator sk-toggleable\"><input class=\"sk-toggleable__control sk-hidden--visually\" id=\"sk-estimator-id-82\" type=\"checkbox\" ><label for=\"sk-estimator-id-82\" class=\"sk-toggleable__label sk-toggleable__label-arrow\">RandomForestClassifier</label><div class=\"sk-toggleable__content\"><pre>RandomForestClassifier(n_estimators=10, random_state=101)</pre></div></div></div></div></div></div></div>"
      ],
      "text/plain": [
       "Pipeline(steps=[('Random Under Sampler', RandomUnderSampler(random_state=101)),\n",
       "                ('Random Forest Classifier',\n",
       "                 RandomForestClassifier(n_estimators=10, random_state=101))])"
      ]
     },
     "metadata": {},
     "output_type": "display_data"
    }
   ],
   "source": [
    "pipe_rus = Pipeline([\n",
    "    ('Random Under Sampler', RandomUnderSampler(random_state=101)),\n",
    "    ('Random Forest Classifier', rf)\n",
    "])\n",
    "display(pipe_rus)"
   ]
  },
  {
   "cell_type": "code",
   "execution_count": 162,
   "id": "c8d9499d",
   "metadata": {
    "scrolled": true
   },
   "outputs": [
    {
     "data": {
      "text/html": [
       "<div>\n",
       "<style scoped>\n",
       "    .dataframe tbody tr th:only-of-type {\n",
       "        vertical-align: middle;\n",
       "    }\n",
       "\n",
       "    .dataframe tbody tr th {\n",
       "        vertical-align: top;\n",
       "    }\n",
       "\n",
       "    .dataframe thead th {\n",
       "        text-align: right;\n",
       "    }\n",
       "</style>\n",
       "<table border=\"1\" class=\"dataframe\">\n",
       "  <thead>\n",
       "    <tr style=\"text-align: right;\">\n",
       "      <th></th>\n",
       "      <th>True_Positives</th>\n",
       "      <th>False_Positives</th>\n",
       "      <th>True_Negatives</th>\n",
       "      <th>False_Negatives</th>\n",
       "    </tr>\n",
       "  </thead>\n",
       "  <tbody>\n",
       "    <tr>\n",
       "      <th>Random Under Sampler</th>\n",
       "      <td>27669</td>\n",
       "      <td>766</td>\n",
       "      <td>5</td>\n",
       "      <td>41</td>\n",
       "    </tr>\n",
       "  </tbody>\n",
       "</table>\n",
       "</div>"
      ],
      "text/plain": [
       "                      True_Positives  False_Positives  True_Negatives  \\\n",
       "Random Under Sampler           27669              766               5   \n",
       "\n",
       "                      False_Negatives  \n",
       "Random Under Sampler               41  "
      ]
     },
     "metadata": {},
     "output_type": "display_data"
    }
   ],
   "source": [
    "pipe_rus.fit(X_train, y_train)\n",
    "rus_matrix = confusion_matrix_dataframe(pipe_rus, X_test, y_test)\n",
    "display(rus_matrix)"
   ]
  },
  {
   "cell_type": "markdown",
   "id": "8a167ab3",
   "metadata": {},
   "source": [
    "#### 4.2.4. NEAR MISS UNDER SAMPLING"
   ]
  },
  {
   "cell_type": "code",
   "execution_count": 163,
   "id": "32a80b72",
   "metadata": {
    "scrolled": false
   },
   "outputs": [
    {
     "data": {
      "text/html": [
       "<style>#sk-container-id-29 {color: black;background-color: white;}#sk-container-id-29 pre{padding: 0;}#sk-container-id-29 div.sk-toggleable {background-color: white;}#sk-container-id-29 label.sk-toggleable__label {cursor: pointer;display: block;width: 100%;margin-bottom: 0;padding: 0.3em;box-sizing: border-box;text-align: center;}#sk-container-id-29 label.sk-toggleable__label-arrow:before {content: \"▸\";float: left;margin-right: 0.25em;color: #696969;}#sk-container-id-29 label.sk-toggleable__label-arrow:hover:before {color: black;}#sk-container-id-29 div.sk-estimator:hover label.sk-toggleable__label-arrow:before {color: black;}#sk-container-id-29 div.sk-toggleable__content {max-height: 0;max-width: 0;overflow: hidden;text-align: left;background-color: #f0f8ff;}#sk-container-id-29 div.sk-toggleable__content pre {margin: 0.2em;color: black;border-radius: 0.25em;background-color: #f0f8ff;}#sk-container-id-29 input.sk-toggleable__control:checked~div.sk-toggleable__content {max-height: 200px;max-width: 100%;overflow: auto;}#sk-container-id-29 input.sk-toggleable__control:checked~label.sk-toggleable__label-arrow:before {content: \"▾\";}#sk-container-id-29 div.sk-estimator input.sk-toggleable__control:checked~label.sk-toggleable__label {background-color: #d4ebff;}#sk-container-id-29 div.sk-label input.sk-toggleable__control:checked~label.sk-toggleable__label {background-color: #d4ebff;}#sk-container-id-29 input.sk-hidden--visually {border: 0;clip: rect(1px 1px 1px 1px);clip: rect(1px, 1px, 1px, 1px);height: 1px;margin: -1px;overflow: hidden;padding: 0;position: absolute;width: 1px;}#sk-container-id-29 div.sk-estimator {font-family: monospace;background-color: #f0f8ff;border: 1px dotted black;border-radius: 0.25em;box-sizing: border-box;margin-bottom: 0.5em;}#sk-container-id-29 div.sk-estimator:hover {background-color: #d4ebff;}#sk-container-id-29 div.sk-parallel-item::after {content: \"\";width: 100%;border-bottom: 1px solid gray;flex-grow: 1;}#sk-container-id-29 div.sk-label:hover label.sk-toggleable__label {background-color: #d4ebff;}#sk-container-id-29 div.sk-serial::before {content: \"\";position: absolute;border-left: 1px solid gray;box-sizing: border-box;top: 0;bottom: 0;left: 50%;z-index: 0;}#sk-container-id-29 div.sk-serial {display: flex;flex-direction: column;align-items: center;background-color: white;padding-right: 0.2em;padding-left: 0.2em;position: relative;}#sk-container-id-29 div.sk-item {position: relative;z-index: 1;}#sk-container-id-29 div.sk-parallel {display: flex;align-items: stretch;justify-content: center;background-color: white;position: relative;}#sk-container-id-29 div.sk-item::before, #sk-container-id-29 div.sk-parallel-item::before {content: \"\";position: absolute;border-left: 1px solid gray;box-sizing: border-box;top: 0;bottom: 0;left: 50%;z-index: -1;}#sk-container-id-29 div.sk-parallel-item {display: flex;flex-direction: column;z-index: 1;position: relative;background-color: white;}#sk-container-id-29 div.sk-parallel-item:first-child::after {align-self: flex-end;width: 50%;}#sk-container-id-29 div.sk-parallel-item:last-child::after {align-self: flex-start;width: 50%;}#sk-container-id-29 div.sk-parallel-item:only-child::after {width: 0;}#sk-container-id-29 div.sk-dashed-wrapped {border: 1px dashed gray;margin: 0 0.4em 0.5em 0.4em;box-sizing: border-box;padding-bottom: 0.4em;background-color: white;}#sk-container-id-29 div.sk-label label {font-family: monospace;font-weight: bold;display: inline-block;line-height: 1.2em;}#sk-container-id-29 div.sk-label-container {text-align: center;}#sk-container-id-29 div.sk-container {/* jupyter's `normalize.less` sets `[hidden] { display: none; }` but bootstrap.min.css set `[hidden] { display: none !important; }` so we also need the `!important` here to be able to override the default hidden behavior on the sphinx rendered scikit-learn.org. See: https://github.com/scikit-learn/scikit-learn/issues/21755 */display: inline-block !important;position: relative;}#sk-container-id-29 div.sk-text-repr-fallback {display: none;}</style><div id=\"sk-container-id-29\" class=\"sk-top-container\"><div class=\"sk-text-repr-fallback\"><pre>Pipeline(steps=[(&#x27;Near Miss Under Sampler&#x27;, NearMiss(version=3)),\n",
       "                (&#x27;Random Forest Classifier&#x27;,\n",
       "                 RandomForestClassifier(n_estimators=10, random_state=101))])</pre><b>In a Jupyter environment, please rerun this cell to show the HTML representation or trust the notebook. <br />On GitHub, the HTML representation is unable to render, please try loading this page with nbviewer.org.</b></div><div class=\"sk-container\" hidden><div class=\"sk-item sk-dashed-wrapped\"><div class=\"sk-label-container\"><div class=\"sk-label sk-toggleable\"><input class=\"sk-toggleable__control sk-hidden--visually\" id=\"sk-estimator-id-83\" type=\"checkbox\" ><label for=\"sk-estimator-id-83\" class=\"sk-toggleable__label sk-toggleable__label-arrow\">Pipeline</label><div class=\"sk-toggleable__content\"><pre>Pipeline(steps=[(&#x27;Near Miss Under Sampler&#x27;, NearMiss(version=3)),\n",
       "                (&#x27;Random Forest Classifier&#x27;,\n",
       "                 RandomForestClassifier(n_estimators=10, random_state=101))])</pre></div></div></div><div class=\"sk-serial\"><div class=\"sk-item\"><div class=\"sk-estimator sk-toggleable\"><input class=\"sk-toggleable__control sk-hidden--visually\" id=\"sk-estimator-id-84\" type=\"checkbox\" ><label for=\"sk-estimator-id-84\" class=\"sk-toggleable__label sk-toggleable__label-arrow\">NearMiss</label><div class=\"sk-toggleable__content\"><pre>NearMiss(version=3)</pre></div></div></div><div class=\"sk-item\"><div class=\"sk-estimator sk-toggleable\"><input class=\"sk-toggleable__control sk-hidden--visually\" id=\"sk-estimator-id-85\" type=\"checkbox\" ><label for=\"sk-estimator-id-85\" class=\"sk-toggleable__label sk-toggleable__label-arrow\">RandomForestClassifier</label><div class=\"sk-toggleable__content\"><pre>RandomForestClassifier(n_estimators=10, random_state=101)</pre></div></div></div></div></div></div></div>"
      ],
      "text/plain": [
       "Pipeline(steps=[('Near Miss Under Sampler', NearMiss(version=3)),\n",
       "                ('Random Forest Classifier',\n",
       "                 RandomForestClassifier(n_estimators=10, random_state=101))])"
      ]
     },
     "metadata": {},
     "output_type": "display_data"
    }
   ],
   "source": [
    "pipe_nm = Pipeline([\n",
    "    ('Near Miss Under Sampler', NearMiss(version=3)),\n",
    "    ('Random Forest Classifier', rf)\n",
    "])\n",
    "display(pipe_nm)"
   ]
  },
  {
   "cell_type": "code",
   "execution_count": 164,
   "id": "508eedbd",
   "metadata": {
    "scrolled": true
   },
   "outputs": [
    {
     "name": "stderr",
     "output_type": "stream",
     "text": [
      "/opt/anaconda3/lib/python3.9/site-packages/imblearn/under_sampling/_prototype_selection/_nearmiss.py:177: UserWarning: The number of the samples to be selected is larger than the number of samples available. The balancing ratio cannot be ensure and all samples will be returned.\n",
      "  warnings.warn(\n"
     ]
    },
    {
     "data": {
      "text/html": [
       "<div>\n",
       "<style scoped>\n",
       "    .dataframe tbody tr th:only-of-type {\n",
       "        vertical-align: middle;\n",
       "    }\n",
       "\n",
       "    .dataframe tbody tr th {\n",
       "        vertical-align: top;\n",
       "    }\n",
       "\n",
       "    .dataframe thead th {\n",
       "        text-align: right;\n",
       "    }\n",
       "</style>\n",
       "<table border=\"1\" class=\"dataframe\">\n",
       "  <thead>\n",
       "    <tr style=\"text-align: right;\">\n",
       "      <th></th>\n",
       "      <th>True_Positives</th>\n",
       "      <th>False_Positives</th>\n",
       "      <th>True_Negatives</th>\n",
       "      <th>False_Negatives</th>\n",
       "    </tr>\n",
       "  </thead>\n",
       "  <tbody>\n",
       "    <tr>\n",
       "      <th>Near Miss Under Sampler</th>\n",
       "      <td>26779</td>\n",
       "      <td>1656</td>\n",
       "      <td>9</td>\n",
       "      <td>37</td>\n",
       "    </tr>\n",
       "  </tbody>\n",
       "</table>\n",
       "</div>"
      ],
      "text/plain": [
       "                         True_Positives  False_Positives  True_Negatives  \\\n",
       "Near Miss Under Sampler           26779             1656               9   \n",
       "\n",
       "                         False_Negatives  \n",
       "Near Miss Under Sampler               37  "
      ]
     },
     "metadata": {},
     "output_type": "display_data"
    }
   ],
   "source": [
    "pipe_nm.fit(X_train, y_train)\n",
    "nm_matrix = confusion_matrix_dataframe(pipe_nm, X_test, y_test)\n",
    "display(nm_matrix)"
   ]
  },
  {
   "cell_type": "code",
   "execution_count": 165,
   "id": "5499aa61",
   "metadata": {},
   "outputs": [
    {
     "data": {
      "text/html": [
       "<div>\n",
       "<style scoped>\n",
       "    .dataframe tbody tr th:only-of-type {\n",
       "        vertical-align: middle;\n",
       "    }\n",
       "\n",
       "    .dataframe tbody tr th {\n",
       "        vertical-align: top;\n",
       "    }\n",
       "\n",
       "    .dataframe thead th {\n",
       "        text-align: right;\n",
       "    }\n",
       "</style>\n",
       "<table border=\"1\" class=\"dataframe\">\n",
       "  <thead>\n",
       "    <tr style=\"text-align: right;\">\n",
       "      <th></th>\n",
       "      <th>True_Positives</th>\n",
       "      <th>False_Positives</th>\n",
       "      <th>True_Negatives</th>\n",
       "      <th>False_Negatives</th>\n",
       "    </tr>\n",
       "  </thead>\n",
       "  <tbody>\n",
       "    <tr>\n",
       "      <th>Random Under Sampler</th>\n",
       "      <td>27669</td>\n",
       "      <td>766</td>\n",
       "      <td>5</td>\n",
       "      <td>41</td>\n",
       "    </tr>\n",
       "    <tr>\n",
       "      <th>Near Miss Under Sampler</th>\n",
       "      <td>26779</td>\n",
       "      <td>1656</td>\n",
       "      <td>9</td>\n",
       "      <td>37</td>\n",
       "    </tr>\n",
       "    <tr>\n",
       "      <th>SMOTE</th>\n",
       "      <td>28431</td>\n",
       "      <td>4</td>\n",
       "      <td>10</td>\n",
       "      <td>36</td>\n",
       "    </tr>\n",
       "    <tr>\n",
       "      <th>Baseline - Random Forest</th>\n",
       "      <td>28435</td>\n",
       "      <td>0</td>\n",
       "      <td>11</td>\n",
       "      <td>35</td>\n",
       "    </tr>\n",
       "    <tr>\n",
       "      <th>Random Over Sampler</th>\n",
       "      <td>28433</td>\n",
       "      <td>2</td>\n",
       "      <td>11</td>\n",
       "      <td>35</td>\n",
       "    </tr>\n",
       "  </tbody>\n",
       "</table>\n",
       "</div>"
      ],
      "text/plain": [
       "                          True_Positives  False_Positives  True_Negatives  \\\n",
       "Random Under Sampler               27669              766               5   \n",
       "Near Miss Under Sampler            26779             1656               9   \n",
       "SMOTE                              28431                4              10   \n",
       "Baseline - Random Forest           28435                0              11   \n",
       "Random Over Sampler                28433                2              11   \n",
       "\n",
       "                          False_Negatives  \n",
       "Random Under Sampler                   41  \n",
       "Near Miss Under Sampler                37  \n",
       "SMOTE                                  36  \n",
       "Baseline - Random Forest               35  \n",
       "Random Over Sampler                    35  "
      ]
     },
     "execution_count": 165,
     "metadata": {},
     "output_type": "execute_result"
    }
   ],
   "source": [
    "comparison_df = pd.concat([baseline_matrix, ros_matrix, smote_matrix, rus_matrix, nm_matrix]).sort_values(by='False_Negatives', ascending = False)\n",
    "comparison_df"
   ]
  }
 ],
 "metadata": {
  "kernelspec": {
   "display_name": "Python 3 (ipykernel)",
   "language": "python",
   "name": "python3"
  },
  "language_info": {
   "codemirror_mode": {
    "name": "ipython",
    "version": 3
   },
   "file_extension": ".py",
   "mimetype": "text/x-python",
   "name": "python",
   "nbconvert_exporter": "python",
   "pygments_lexer": "ipython3",
   "version": "3.9.12"
  }
 },
 "nbformat": 4,
 "nbformat_minor": 5
}
